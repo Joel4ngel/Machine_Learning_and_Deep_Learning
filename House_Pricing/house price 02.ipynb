{
 "cells": [
  {
   "cell_type": "markdown",
   "metadata": {
    "colab_type": "text",
    "id": "cGG_V0B0SO4s"
   },
   "source": [
    "## Load in the data\n",
    "\n",
    "The dataset is from house sales in King County, the region where the city of Seattle, WA is located.  \n",
    "https://www.kaggle.com/harlfoxem/housesalesprediction"
   ]
  },
  {
   "cell_type": "code",
   "execution_count": 1,
   "metadata": {
    "colab": {},
    "colab_type": "code",
    "id": "Spl4YbZLSO4t"
   },
   "outputs": [],
   "source": [
    "import pandas as pd"
   ]
  },
  {
   "cell_type": "markdown",
   "metadata": {
    "colab_type": "text",
    "id": "0k7nLtJ7elgP"
   },
   "source": []
  },
  {
   "cell_type": "code",
   "execution_count": 2,
   "metadata": {
    "colab": {},
    "colab_type": "code",
    "id": "PxxBPv8jScGG"
   },
   "outputs": [],
   "source": [
    "!wget https://www.dropbox.com/s/l6zj8mjqgdm1mne/kc_house_data.csv -q"
   ]
  },
  {
   "cell_type": "code",
   "execution_count": 3,
   "metadata": {
    "colab": {},
    "colab_type": "code",
    "id": "9K21YEaFSO4z",
    "scrolled": true
   },
   "outputs": [],
   "source": [
    "df = pd.read_csv('kc_house_data.csv')"
   ]
  },
  {
   "cell_type": "code",
   "execution_count": 5,
   "metadata": {
    "colab": {
     "base_uri": "https://localhost:8080/",
     "height": 244
    },
    "colab_type": "code",
    "executionInfo": {
     "elapsed": 997,
     "status": "ok",
     "timestamp": 1549149047974,
     "user": {
      "displayName": "Venkatesh Tadinada",
      "photoUrl": "",
      "userId": "11340529044771548550"
     },
     "user_tz": 480
    },
    "id": "YC2RCEcmSO41",
    "outputId": "1b505ba8-6553-412a-dc1d-e4020ca0da70"
   },
   "outputs": [
    {
     "data": {
      "text/html": [
       "<div>\n",
       "<style scoped>\n",
       "    .dataframe tbody tr th:only-of-type {\n",
       "        vertical-align: middle;\n",
       "    }\n",
       "\n",
       "    .dataframe tbody tr th {\n",
       "        vertical-align: top;\n",
       "    }\n",
       "\n",
       "    .dataframe thead th {\n",
       "        text-align: right;\n",
       "    }\n",
       "</style>\n",
       "<table border=\"1\" class=\"dataframe\">\n",
       "  <thead>\n",
       "    <tr style=\"text-align: right;\">\n",
       "      <th></th>\n",
       "      <th>id</th>\n",
       "      <th>date</th>\n",
       "      <th>price</th>\n",
       "      <th>bedrooms</th>\n",
       "      <th>bathrooms</th>\n",
       "      <th>sqft_living</th>\n",
       "      <th>sqft_lot</th>\n",
       "      <th>floors</th>\n",
       "      <th>waterfront</th>\n",
       "      <th>view</th>\n",
       "      <th>...</th>\n",
       "      <th>grade</th>\n",
       "      <th>sqft_above</th>\n",
       "      <th>sqft_basement</th>\n",
       "      <th>yr_built</th>\n",
       "      <th>yr_renovated</th>\n",
       "      <th>zipcode</th>\n",
       "      <th>lat</th>\n",
       "      <th>long</th>\n",
       "      <th>sqft_living15</th>\n",
       "      <th>sqft_lot15</th>\n",
       "    </tr>\n",
       "  </thead>\n",
       "  <tbody>\n",
       "    <tr>\n",
       "      <th>0</th>\n",
       "      <td>7129300520</td>\n",
       "      <td>20141013T000000</td>\n",
       "      <td>221900.0</td>\n",
       "      <td>3</td>\n",
       "      <td>1.00</td>\n",
       "      <td>1180</td>\n",
       "      <td>5650</td>\n",
       "      <td>1.0</td>\n",
       "      <td>0</td>\n",
       "      <td>0</td>\n",
       "      <td>...</td>\n",
       "      <td>7</td>\n",
       "      <td>1180</td>\n",
       "      <td>0</td>\n",
       "      <td>1955</td>\n",
       "      <td>0</td>\n",
       "      <td>98178</td>\n",
       "      <td>47.5112</td>\n",
       "      <td>-122.257</td>\n",
       "      <td>1340</td>\n",
       "      <td>5650</td>\n",
       "    </tr>\n",
       "    <tr>\n",
       "      <th>1</th>\n",
       "      <td>6414100192</td>\n",
       "      <td>20141209T000000</td>\n",
       "      <td>538000.0</td>\n",
       "      <td>3</td>\n",
       "      <td>2.25</td>\n",
       "      <td>2570</td>\n",
       "      <td>7242</td>\n",
       "      <td>2.0</td>\n",
       "      <td>0</td>\n",
       "      <td>0</td>\n",
       "      <td>...</td>\n",
       "      <td>7</td>\n",
       "      <td>2170</td>\n",
       "      <td>400</td>\n",
       "      <td>1951</td>\n",
       "      <td>1991</td>\n",
       "      <td>98125</td>\n",
       "      <td>47.7210</td>\n",
       "      <td>-122.319</td>\n",
       "      <td>1690</td>\n",
       "      <td>7639</td>\n",
       "    </tr>\n",
       "    <tr>\n",
       "      <th>2</th>\n",
       "      <td>5631500400</td>\n",
       "      <td>20150225T000000</td>\n",
       "      <td>180000.0</td>\n",
       "      <td>2</td>\n",
       "      <td>1.00</td>\n",
       "      <td>770</td>\n",
       "      <td>10000</td>\n",
       "      <td>1.0</td>\n",
       "      <td>0</td>\n",
       "      <td>0</td>\n",
       "      <td>...</td>\n",
       "      <td>6</td>\n",
       "      <td>770</td>\n",
       "      <td>0</td>\n",
       "      <td>1933</td>\n",
       "      <td>0</td>\n",
       "      <td>98028</td>\n",
       "      <td>47.7379</td>\n",
       "      <td>-122.233</td>\n",
       "      <td>2720</td>\n",
       "      <td>8062</td>\n",
       "    </tr>\n",
       "    <tr>\n",
       "      <th>3</th>\n",
       "      <td>2487200875</td>\n",
       "      <td>20141209T000000</td>\n",
       "      <td>604000.0</td>\n",
       "      <td>4</td>\n",
       "      <td>3.00</td>\n",
       "      <td>1960</td>\n",
       "      <td>5000</td>\n",
       "      <td>1.0</td>\n",
       "      <td>0</td>\n",
       "      <td>0</td>\n",
       "      <td>...</td>\n",
       "      <td>7</td>\n",
       "      <td>1050</td>\n",
       "      <td>910</td>\n",
       "      <td>1965</td>\n",
       "      <td>0</td>\n",
       "      <td>98136</td>\n",
       "      <td>47.5208</td>\n",
       "      <td>-122.393</td>\n",
       "      <td>1360</td>\n",
       "      <td>5000</td>\n",
       "    </tr>\n",
       "    <tr>\n",
       "      <th>4</th>\n",
       "      <td>1954400510</td>\n",
       "      <td>20150218T000000</td>\n",
       "      <td>510000.0</td>\n",
       "      <td>3</td>\n",
       "      <td>2.00</td>\n",
       "      <td>1680</td>\n",
       "      <td>8080</td>\n",
       "      <td>1.0</td>\n",
       "      <td>0</td>\n",
       "      <td>0</td>\n",
       "      <td>...</td>\n",
       "      <td>8</td>\n",
       "      <td>1680</td>\n",
       "      <td>0</td>\n",
       "      <td>1987</td>\n",
       "      <td>0</td>\n",
       "      <td>98074</td>\n",
       "      <td>47.6168</td>\n",
       "      <td>-122.045</td>\n",
       "      <td>1800</td>\n",
       "      <td>7503</td>\n",
       "    </tr>\n",
       "  </tbody>\n",
       "</table>\n",
       "<p>5 rows × 21 columns</p>\n",
       "</div>"
      ],
      "text/plain": [
       "           id             date     price  bedrooms  bathrooms  sqft_living  \\\n",
       "0  7129300520  20141013T000000  221900.0         3       1.00         1180   \n",
       "1  6414100192  20141209T000000  538000.0         3       2.25         2570   \n",
       "2  5631500400  20150225T000000  180000.0         2       1.00          770   \n",
       "3  2487200875  20141209T000000  604000.0         4       3.00         1960   \n",
       "4  1954400510  20150218T000000  510000.0         3       2.00         1680   \n",
       "\n",
       "   sqft_lot  floors  waterfront  view     ...      grade  sqft_above  \\\n",
       "0      5650     1.0           0     0     ...          7        1180   \n",
       "1      7242     2.0           0     0     ...          7        2170   \n",
       "2     10000     1.0           0     0     ...          6         770   \n",
       "3      5000     1.0           0     0     ...          7        1050   \n",
       "4      8080     1.0           0     0     ...          8        1680   \n",
       "\n",
       "   sqft_basement  yr_built  yr_renovated  zipcode      lat     long  \\\n",
       "0              0      1955             0    98178  47.5112 -122.257   \n",
       "1            400      1951          1991    98125  47.7210 -122.319   \n",
       "2              0      1933             0    98028  47.7379 -122.233   \n",
       "3            910      1965             0    98136  47.5208 -122.393   \n",
       "4              0      1987             0    98074  47.6168 -122.045   \n",
       "\n",
       "   sqft_living15  sqft_lot15  \n",
       "0           1340        5650  \n",
       "1           1690        7639  \n",
       "2           2720        8062  \n",
       "3           1360        5000  \n",
       "4           1800        7503  \n",
       "\n",
       "[5 rows x 21 columns]"
      ]
     },
     "execution_count": 5,
     "metadata": {},
     "output_type": "execute_result"
    }
   ],
   "source": [
    "df.head()"
   ]
  },
  {
   "cell_type": "code",
   "execution_count": 6,
   "metadata": {
    "colab": {
     "base_uri": "https://localhost:8080/",
     "height": 34
    },
    "colab_type": "code",
    "executionInfo": {
     "elapsed": 1039,
     "status": "ok",
     "timestamp": 1549149066039,
     "user": {
      "displayName": "Venkatesh Tadinada",
      "photoUrl": "",
      "userId": "11340529044771548550"
     },
     "user_tz": 480
    },
    "id": "DB7U0Xu2SO46",
    "outputId": "6c43894e-5d31-4238-e8d9-bb7e9072c0a1"
   },
   "outputs": [
    {
     "data": {
      "text/plain": [
       "(21613, 21)"
      ]
     },
     "execution_count": 6,
     "metadata": {},
     "output_type": "execute_result"
    }
   ],
   "source": [
    "df.shape"
   ]
  },
  {
   "cell_type": "code",
   "execution_count": 7,
   "metadata": {
    "colab": {
     "base_uri": "https://localhost:8080/",
     "height": 34
    },
    "colab_type": "code",
    "executionInfo": {
     "elapsed": 920,
     "status": "ok",
     "timestamp": 1549149068657,
     "user": {
      "displayName": "Venkatesh Tadinada",
      "photoUrl": "",
      "userId": "11340529044771548550"
     },
     "user_tz": 480
    },
    "id": "Qf-lLcjMSO48",
    "outputId": "dfcbbc93-5947-46f2-a00f-048f0bc24c30"
   },
   "outputs": [
    {
     "data": {
      "text/plain": [
       "21613"
      ]
     },
     "execution_count": 7,
     "metadata": {},
     "output_type": "execute_result"
    }
   ],
   "source": [
    "m = df.shape[0] # number of training examples\n",
    "m"
   ]
  },
  {
   "cell_type": "code",
   "execution_count": 8,
   "metadata": {
    "colab": {
     "base_uri": "https://localhost:8080/",
     "height": 454
    },
    "colab_type": "code",
    "executionInfo": {
     "elapsed": 838,
     "status": "ok",
     "timestamp": 1549149074711,
     "user": {
      "displayName": "Venkatesh Tadinada",
      "photoUrl": "",
      "userId": "11340529044771548550"
     },
     "user_tz": 480
    },
    "id": "X4eSPNuyS3LI",
    "outputId": "ea2e9ac8-4946-41c5-cc50-f0d075cb7090"
   },
   "outputs": [
    {
     "name": "stdout",
     "output_type": "stream",
     "text": [
      "<class 'pandas.core.frame.DataFrame'>\n",
      "RangeIndex: 21613 entries, 0 to 21612\n",
      "Data columns (total 21 columns):\n",
      "id               21613 non-null int64\n",
      "date             21613 non-null object\n",
      "price            21613 non-null float64\n",
      "bedrooms         21613 non-null int64\n",
      "bathrooms        21613 non-null float64\n",
      "sqft_living      21613 non-null int64\n",
      "sqft_lot         21613 non-null int64\n",
      "floors           21613 non-null float64\n",
      "waterfront       21613 non-null int64\n",
      "view             21613 non-null int64\n",
      "condition        21613 non-null int64\n",
      "grade            21613 non-null int64\n",
      "sqft_above       21613 non-null int64\n",
      "sqft_basement    21613 non-null int64\n",
      "yr_built         21613 non-null int64\n",
      "yr_renovated     21613 non-null int64\n",
      "zipcode          21613 non-null int64\n",
      "lat              21613 non-null float64\n",
      "long             21613 non-null float64\n",
      "sqft_living15    21613 non-null int64\n",
      "sqft_lot15       21613 non-null int64\n",
      "dtypes: float64(5), int64(15), object(1)\n",
      "memory usage: 3.5+ MB\n"
     ]
    }
   ],
   "source": [
    "df.info()"
   ]
  },
  {
   "cell_type": "code",
   "execution_count": 9,
   "metadata": {
    "colab": {
     "base_uri": "https://localhost:8080/",
     "height": 386
    },
    "colab_type": "code",
    "executionInfo": {
     "elapsed": 852,
     "status": "ok",
     "timestamp": 1549149179776,
     "user": {
      "displayName": "Venkatesh Tadinada",
      "photoUrl": "",
      "userId": "11340529044771548550"
     },
     "user_tz": 480
    },
    "id": "r_SLANzcTC9C",
    "outputId": "91aad8cf-0cff-43a8-94ad-d7dbbcb19c4b"
   },
   "outputs": [
    {
     "data": {
      "text/plain": [
       "id               0\n",
       "date             0\n",
       "price            0\n",
       "bedrooms         0\n",
       "bathrooms        0\n",
       "sqft_living      0\n",
       "sqft_lot         0\n",
       "floors           0\n",
       "waterfront       0\n",
       "view             0\n",
       "condition        0\n",
       "grade            0\n",
       "sqft_above       0\n",
       "sqft_basement    0\n",
       "yr_built         0\n",
       "yr_renovated     0\n",
       "zipcode          0\n",
       "lat              0\n",
       "long             0\n",
       "sqft_living15    0\n",
       "sqft_lot15       0\n",
       "dtype: int64"
      ]
     },
     "execution_count": 9,
     "metadata": {},
     "output_type": "execute_result"
    }
   ],
   "source": [
    "df.isnull().sum()"
   ]
  },
  {
   "cell_type": "markdown",
   "metadata": {
    "colab_type": "text",
    "id": "WNwAX-jlSO5A"
   },
   "source": [
    "The dataset contains information (21 features, including the price) related to 21613 houses.  \n",
    "Our target variable (i.e., what we want to predict when a new house gets on sale) is the price."
   ]
  },
  {
   "cell_type": "code",
   "execution_count": 10,
   "metadata": {
    "colab": {
     "base_uri": "https://localhost:8080/",
     "height": 304
    },
    "colab_type": "code",
    "executionInfo": {
     "elapsed": 1040,
     "status": "ok",
     "timestamp": 1549149704444,
     "user": {
      "displayName": "Venkatesh Tadinada",
      "photoUrl": "",
      "userId": "11340529044771548550"
     },
     "user_tz": 480
    },
    "id": "KUqIxiaJUlJc",
    "outputId": "845aac20-2c32-4cf2-ed0f-5b088749dd36"
   },
   "outputs": [
    {
     "data": {
      "text/html": [
       "<div>\n",
       "<style scoped>\n",
       "    .dataframe tbody tr th:only-of-type {\n",
       "        vertical-align: middle;\n",
       "    }\n",
       "\n",
       "    .dataframe tbody tr th {\n",
       "        vertical-align: top;\n",
       "    }\n",
       "\n",
       "    .dataframe thead th {\n",
       "        text-align: right;\n",
       "    }\n",
       "</style>\n",
       "<table border=\"1\" class=\"dataframe\">\n",
       "  <thead>\n",
       "    <tr style=\"text-align: right;\">\n",
       "      <th></th>\n",
       "      <th>id</th>\n",
       "      <th>price</th>\n",
       "      <th>bedrooms</th>\n",
       "      <th>bathrooms</th>\n",
       "      <th>sqft_living</th>\n",
       "      <th>sqft_lot</th>\n",
       "      <th>floors</th>\n",
       "      <th>waterfront</th>\n",
       "      <th>view</th>\n",
       "      <th>condition</th>\n",
       "      <th>grade</th>\n",
       "      <th>sqft_above</th>\n",
       "      <th>sqft_basement</th>\n",
       "      <th>yr_built</th>\n",
       "      <th>yr_renovated</th>\n",
       "      <th>zipcode</th>\n",
       "      <th>lat</th>\n",
       "      <th>long</th>\n",
       "      <th>sqft_living15</th>\n",
       "      <th>sqft_lot15</th>\n",
       "    </tr>\n",
       "  </thead>\n",
       "  <tbody>\n",
       "    <tr>\n",
       "      <th>count</th>\n",
       "      <td>2.161300e+04</td>\n",
       "      <td>2.161300e+04</td>\n",
       "      <td>21613.000000</td>\n",
       "      <td>21613.000000</td>\n",
       "      <td>21613.000000</td>\n",
       "      <td>2.161300e+04</td>\n",
       "      <td>21613.000000</td>\n",
       "      <td>21613.000000</td>\n",
       "      <td>21613.000000</td>\n",
       "      <td>21613.000000</td>\n",
       "      <td>21613.000000</td>\n",
       "      <td>21613.000000</td>\n",
       "      <td>21613.000000</td>\n",
       "      <td>21613.000000</td>\n",
       "      <td>21613.000000</td>\n",
       "      <td>21613.000000</td>\n",
       "      <td>21613.000000</td>\n",
       "      <td>21613.000000</td>\n",
       "      <td>21613.000000</td>\n",
       "      <td>21613.000000</td>\n",
       "    </tr>\n",
       "    <tr>\n",
       "      <th>mean</th>\n",
       "      <td>4.580302e+09</td>\n",
       "      <td>5.400881e+05</td>\n",
       "      <td>3.370842</td>\n",
       "      <td>2.114757</td>\n",
       "      <td>2079.899736</td>\n",
       "      <td>1.510697e+04</td>\n",
       "      <td>1.494309</td>\n",
       "      <td>0.007542</td>\n",
       "      <td>0.234303</td>\n",
       "      <td>3.409430</td>\n",
       "      <td>7.656873</td>\n",
       "      <td>1788.390691</td>\n",
       "      <td>291.509045</td>\n",
       "      <td>1971.005136</td>\n",
       "      <td>84.402258</td>\n",
       "      <td>98077.939805</td>\n",
       "      <td>47.560053</td>\n",
       "      <td>-122.213896</td>\n",
       "      <td>1986.552492</td>\n",
       "      <td>12768.455652</td>\n",
       "    </tr>\n",
       "    <tr>\n",
       "      <th>std</th>\n",
       "      <td>2.876566e+09</td>\n",
       "      <td>3.671272e+05</td>\n",
       "      <td>0.930062</td>\n",
       "      <td>0.770163</td>\n",
       "      <td>918.440897</td>\n",
       "      <td>4.142051e+04</td>\n",
       "      <td>0.539989</td>\n",
       "      <td>0.086517</td>\n",
       "      <td>0.766318</td>\n",
       "      <td>0.650743</td>\n",
       "      <td>1.175459</td>\n",
       "      <td>828.090978</td>\n",
       "      <td>442.575043</td>\n",
       "      <td>29.373411</td>\n",
       "      <td>401.679240</td>\n",
       "      <td>53.505026</td>\n",
       "      <td>0.138564</td>\n",
       "      <td>0.140828</td>\n",
       "      <td>685.391304</td>\n",
       "      <td>27304.179631</td>\n",
       "    </tr>\n",
       "    <tr>\n",
       "      <th>min</th>\n",
       "      <td>1.000102e+06</td>\n",
       "      <td>7.500000e+04</td>\n",
       "      <td>0.000000</td>\n",
       "      <td>0.000000</td>\n",
       "      <td>290.000000</td>\n",
       "      <td>5.200000e+02</td>\n",
       "      <td>1.000000</td>\n",
       "      <td>0.000000</td>\n",
       "      <td>0.000000</td>\n",
       "      <td>1.000000</td>\n",
       "      <td>1.000000</td>\n",
       "      <td>290.000000</td>\n",
       "      <td>0.000000</td>\n",
       "      <td>1900.000000</td>\n",
       "      <td>0.000000</td>\n",
       "      <td>98001.000000</td>\n",
       "      <td>47.155900</td>\n",
       "      <td>-122.519000</td>\n",
       "      <td>399.000000</td>\n",
       "      <td>651.000000</td>\n",
       "    </tr>\n",
       "    <tr>\n",
       "      <th>25%</th>\n",
       "      <td>2.123049e+09</td>\n",
       "      <td>3.219500e+05</td>\n",
       "      <td>3.000000</td>\n",
       "      <td>1.750000</td>\n",
       "      <td>1427.000000</td>\n",
       "      <td>5.040000e+03</td>\n",
       "      <td>1.000000</td>\n",
       "      <td>0.000000</td>\n",
       "      <td>0.000000</td>\n",
       "      <td>3.000000</td>\n",
       "      <td>7.000000</td>\n",
       "      <td>1190.000000</td>\n",
       "      <td>0.000000</td>\n",
       "      <td>1951.000000</td>\n",
       "      <td>0.000000</td>\n",
       "      <td>98033.000000</td>\n",
       "      <td>47.471000</td>\n",
       "      <td>-122.328000</td>\n",
       "      <td>1490.000000</td>\n",
       "      <td>5100.000000</td>\n",
       "    </tr>\n",
       "    <tr>\n",
       "      <th>50%</th>\n",
       "      <td>3.904930e+09</td>\n",
       "      <td>4.500000e+05</td>\n",
       "      <td>3.000000</td>\n",
       "      <td>2.250000</td>\n",
       "      <td>1910.000000</td>\n",
       "      <td>7.618000e+03</td>\n",
       "      <td>1.500000</td>\n",
       "      <td>0.000000</td>\n",
       "      <td>0.000000</td>\n",
       "      <td>3.000000</td>\n",
       "      <td>7.000000</td>\n",
       "      <td>1560.000000</td>\n",
       "      <td>0.000000</td>\n",
       "      <td>1975.000000</td>\n",
       "      <td>0.000000</td>\n",
       "      <td>98065.000000</td>\n",
       "      <td>47.571800</td>\n",
       "      <td>-122.230000</td>\n",
       "      <td>1840.000000</td>\n",
       "      <td>7620.000000</td>\n",
       "    </tr>\n",
       "    <tr>\n",
       "      <th>75%</th>\n",
       "      <td>7.308900e+09</td>\n",
       "      <td>6.450000e+05</td>\n",
       "      <td>4.000000</td>\n",
       "      <td>2.500000</td>\n",
       "      <td>2550.000000</td>\n",
       "      <td>1.068800e+04</td>\n",
       "      <td>2.000000</td>\n",
       "      <td>0.000000</td>\n",
       "      <td>0.000000</td>\n",
       "      <td>4.000000</td>\n",
       "      <td>8.000000</td>\n",
       "      <td>2210.000000</td>\n",
       "      <td>560.000000</td>\n",
       "      <td>1997.000000</td>\n",
       "      <td>0.000000</td>\n",
       "      <td>98118.000000</td>\n",
       "      <td>47.678000</td>\n",
       "      <td>-122.125000</td>\n",
       "      <td>2360.000000</td>\n",
       "      <td>10083.000000</td>\n",
       "    </tr>\n",
       "    <tr>\n",
       "      <th>max</th>\n",
       "      <td>9.900000e+09</td>\n",
       "      <td>7.700000e+06</td>\n",
       "      <td>33.000000</td>\n",
       "      <td>8.000000</td>\n",
       "      <td>13540.000000</td>\n",
       "      <td>1.651359e+06</td>\n",
       "      <td>3.500000</td>\n",
       "      <td>1.000000</td>\n",
       "      <td>4.000000</td>\n",
       "      <td>5.000000</td>\n",
       "      <td>13.000000</td>\n",
       "      <td>9410.000000</td>\n",
       "      <td>4820.000000</td>\n",
       "      <td>2015.000000</td>\n",
       "      <td>2015.000000</td>\n",
       "      <td>98199.000000</td>\n",
       "      <td>47.777600</td>\n",
       "      <td>-121.315000</td>\n",
       "      <td>6210.000000</td>\n",
       "      <td>871200.000000</td>\n",
       "    </tr>\n",
       "  </tbody>\n",
       "</table>\n",
       "</div>"
      ],
      "text/plain": [
       "                 id         price      bedrooms     bathrooms   sqft_living  \\\n",
       "count  2.161300e+04  2.161300e+04  21613.000000  21613.000000  21613.000000   \n",
       "mean   4.580302e+09  5.400881e+05      3.370842      2.114757   2079.899736   \n",
       "std    2.876566e+09  3.671272e+05      0.930062      0.770163    918.440897   \n",
       "min    1.000102e+06  7.500000e+04      0.000000      0.000000    290.000000   \n",
       "25%    2.123049e+09  3.219500e+05      3.000000      1.750000   1427.000000   \n",
       "50%    3.904930e+09  4.500000e+05      3.000000      2.250000   1910.000000   \n",
       "75%    7.308900e+09  6.450000e+05      4.000000      2.500000   2550.000000   \n",
       "max    9.900000e+09  7.700000e+06     33.000000      8.000000  13540.000000   \n",
       "\n",
       "           sqft_lot        floors    waterfront          view     condition  \\\n",
       "count  2.161300e+04  21613.000000  21613.000000  21613.000000  21613.000000   \n",
       "mean   1.510697e+04      1.494309      0.007542      0.234303      3.409430   \n",
       "std    4.142051e+04      0.539989      0.086517      0.766318      0.650743   \n",
       "min    5.200000e+02      1.000000      0.000000      0.000000      1.000000   \n",
       "25%    5.040000e+03      1.000000      0.000000      0.000000      3.000000   \n",
       "50%    7.618000e+03      1.500000      0.000000      0.000000      3.000000   \n",
       "75%    1.068800e+04      2.000000      0.000000      0.000000      4.000000   \n",
       "max    1.651359e+06      3.500000      1.000000      4.000000      5.000000   \n",
       "\n",
       "              grade    sqft_above  sqft_basement      yr_built  yr_renovated  \\\n",
       "count  21613.000000  21613.000000   21613.000000  21613.000000  21613.000000   \n",
       "mean       7.656873   1788.390691     291.509045   1971.005136     84.402258   \n",
       "std        1.175459    828.090978     442.575043     29.373411    401.679240   \n",
       "min        1.000000    290.000000       0.000000   1900.000000      0.000000   \n",
       "25%        7.000000   1190.000000       0.000000   1951.000000      0.000000   \n",
       "50%        7.000000   1560.000000       0.000000   1975.000000      0.000000   \n",
       "75%        8.000000   2210.000000     560.000000   1997.000000      0.000000   \n",
       "max       13.000000   9410.000000    4820.000000   2015.000000   2015.000000   \n",
       "\n",
       "            zipcode           lat          long  sqft_living15     sqft_lot15  \n",
       "count  21613.000000  21613.000000  21613.000000   21613.000000   21613.000000  \n",
       "mean   98077.939805     47.560053   -122.213896    1986.552492   12768.455652  \n",
       "std       53.505026      0.138564      0.140828     685.391304   27304.179631  \n",
       "min    98001.000000     47.155900   -122.519000     399.000000     651.000000  \n",
       "25%    98033.000000     47.471000   -122.328000    1490.000000    5100.000000  \n",
       "50%    98065.000000     47.571800   -122.230000    1840.000000    7620.000000  \n",
       "75%    98118.000000     47.678000   -122.125000    2360.000000   10083.000000  \n",
       "max    98199.000000     47.777600   -121.315000    6210.000000  871200.000000  "
      ]
     },
     "execution_count": 10,
     "metadata": {},
     "output_type": "execute_result"
    }
   ],
   "source": [
    "df.describe()"
   ]
  },
  {
   "cell_type": "markdown",
   "metadata": {
    "colab_type": "text",
    "id": "SZ0mWDGPSO5A"
   },
   "source": [
    "## Baseline: the simplest model"
   ]
  },
  {
   "cell_type": "markdown",
   "metadata": {
    "colab_type": "text",
    "id": "evgklmISSO5A"
   },
   "source": [
    "Now let's compute the loss in the case of the simplest model: a fixed price equal to the average of historic prices, independently on house size, rooms, location, ..."
   ]
  },
  {
   "cell_type": "code",
   "execution_count": 11,
   "metadata": {
    "colab": {},
    "colab_type": "code",
    "id": "v6Js7k4pSO5C"
   },
   "outputs": [],
   "source": [
    "# Let's compute the mean of the House Prices in King County \n",
    "y = df['price'] # extract the price column"
   ]
  },
  {
   "cell_type": "code",
   "execution_count": 12,
   "metadata": {
    "colab": {
     "base_uri": "https://localhost:8080/",
     "height": 34
    },
    "colab_type": "code",
    "executionInfo": {
     "elapsed": 875,
     "status": "ok",
     "timestamp": 1549149795056,
     "user": {
      "displayName": "Venkatesh Tadinada",
      "photoUrl": "",
      "userId": "11340529044771548550"
     },
     "user_tz": 480
    },
    "id": "JWjhS3ukSO5E",
    "outputId": "08ca462e-b0ec-443e-b054-83b7b9ac50b3"
   },
   "outputs": [
    {
     "name": "stdout",
     "output_type": "stream",
     "text": [
      "average price: $540088 \n"
     ]
    }
   ],
   "source": [
    "avg_price = y.mean() # this is our baseline\n",
    "print (\"average price: ${:.0f} \".format(avg_price))"
   ]
  },
  {
   "cell_type": "code",
   "execution_count": 13,
   "metadata": {
    "colab": {
     "base_uri": "https://localhost:8080/",
     "height": 34
    },
    "colab_type": "code",
    "executionInfo": {
     "elapsed": 546,
     "status": "ok",
     "timestamp": 1549149799856,
     "user": {
      "displayName": "Venkatesh Tadinada",
      "photoUrl": "",
      "userId": "11340529044771548550"
     },
     "user_tz": 480
    },
    "id": "Rn8sz-92SO5G",
    "outputId": "ff9d4bf3-c1da-44ed-f81f-445482d5d401"
   },
   "outputs": [
    {
     "data": {
      "text/plain": [
       "221900.0"
      ]
     },
     "execution_count": 13,
     "metadata": {},
     "output_type": "execute_result"
    }
   ],
   "source": [
    "ExamplePrice = y[0]\n",
    "ExamplePrice"
   ]
  },
  {
   "cell_type": "markdown",
   "metadata": {
    "colab_type": "text",
    "id": "Ulgsmit9SO5J"
   },
   "source": [
    "The predictions are very easy to calculate, just the baseline value:"
   ]
  },
  {
   "cell_type": "code",
   "execution_count": 14,
   "metadata": {
    "colab": {},
    "colab_type": "code",
    "id": "bdx3h0OoSO5J"
   },
   "outputs": [],
   "source": [
    "def get_baseline_predictions():\n",
    "       # Simplest version: return the baseline as predicted values\n",
    "    predicted_values = avg_price \n",
    "    return predicted_values"
   ]
  },
  {
   "cell_type": "markdown",
   "metadata": {
    "colab_type": "text",
    "id": "KXK6gc0cSO5N"
   },
   "source": [
    "\n",
    "Example:"
   ]
  },
  {
   "cell_type": "code",
   "execution_count": 15,
   "metadata": {
    "colab": {
     "base_uri": "https://localhost:8080/",
     "height": 34
    },
    "colab_type": "code",
    "executionInfo": {
     "elapsed": 1107,
     "status": "ok",
     "timestamp": 1549149869568,
     "user": {
      "displayName": "Venkatesh Tadinada",
      "photoUrl": "",
      "userId": "11340529044771548550"
     },
     "user_tz": 480
    },
    "id": "BpzbEC_oSO5N",
    "outputId": "67e93096-062c-4db2-d30a-226f5ce49bd1"
   },
   "outputs": [
    {
     "name": "stdout",
     "output_type": "stream",
     "text": [
      "The estimated price for a house with 2500 squared feet is 540088\n"
     ]
    }
   ],
   "source": [
    "my_house_size = 2500\n",
    "estimated_price = get_baseline_predictions()\n",
    "print (\"The estimated price for a house with {} squared feet is {:.0f}\".format(my_house_size, estimated_price))"
   ]
  },
  {
   "cell_type": "markdown",
   "metadata": {
    "colab_type": "text",
    "id": "KlsOkAZCSO5Q"
   },
   "source": [
    "The estimated price for the example house will still be around 540K, wile the real value is around 222K. Quite an error!"
   ]
  },
  {
   "cell_type": "markdown",
   "metadata": {
    "colab_type": "text",
    "id": "d8bzsVOFSO5R"
   },
   "source": [
    "## Measures of loss "
   ]
  },
  {
   "cell_type": "markdown",
   "metadata": {
    "colab_type": "text",
    "id": "7KwCfiL1SO5S"
   },
   "source": [
    "There are several way of implementing the loss, I use the squared error here.  \n",
    "\n",
    "$L = [y - f(X)]^2$\n",
    "\n",
    "$J = SQRT(Sum(L)/M)$"
   ]
  },
  {
   "cell_type": "code",
   "execution_count": 16,
   "metadata": {
    "colab": {},
    "colab_type": "code",
    "id": "RyydK-E8SO5T"
   },
   "outputs": [],
   "source": [
    "import numpy as np\n",
    "def get_loss(yhat, target):\n",
    "    \"\"\"\n",
    "    Arguments:\n",
    "    yhat -- vector of size m (predicted labels)\n",
    "    target -- vector of size m (true labels)\n",
    "    \n",
    "    Returns:\n",
    "    loss -- the value of the L2 loss function\n",
    "    \"\"\"\n",
    "      # compute the residuals (since we are squaring it doesn't matter \n",
    "      #   which order you subtract)\n",
    "      # np.dot will square the residuals and add them up\n",
    "    cost = np.dot((target - yhat), (target - yhat))/len(yhat)\n",
    "\n",
    "    return(np.sqrt(cost))"
   ]
  },
  {
   "cell_type": "code",
   "execution_count": 17,
   "metadata": {
    "colab": {
     "base_uri": "https://localhost:8080/",
     "height": 50
    },
    "colab_type": "code",
    "executionInfo": {
     "elapsed": 456,
     "status": "ok",
     "timestamp": 1549150380389,
     "user": {
      "displayName": "Venkatesh Tadinada",
      "photoUrl": "",
      "userId": "11340529044771548550"
     },
     "user_tz": 480
    },
    "id": "vuigTANmbzNe",
    "outputId": "06f820f1-1161-4b22-93f2-958b3210d7ee"
   },
   "outputs": [
    {
     "name": "stdout",
     "output_type": "stream",
     "text": [
      "Model Errors for Mean\n",
      "RMSE = 367119\n"
     ]
    }
   ],
   "source": [
    "#predict the sale price is the mean.\n",
    "y = df['price']\n",
    "mean = sum(y)/len(y)\n",
    "print(\"Model Errors for Mean\")\n",
    "print(\"RMSE = {:.0f}\".format(get_loss(y,mean)))"
   ]
  },
  {
   "cell_type": "code",
   "execution_count": 18,
   "metadata": {
    "colab": {
     "base_uri": "https://localhost:8080/",
     "height": 34
    },
    "colab_type": "code",
    "executionInfo": {
     "elapsed": 472,
     "status": "ok",
     "timestamp": 1549150738538,
     "user": {
      "displayName": "Venkatesh Tadinada",
      "photoUrl": "",
      "userId": "11340529044771548550"
     },
     "user_tz": 480
    },
    "id": "jQ3WpYE3cENf",
    "outputId": "dbdf3ece-b171-48fd-a60f-6b9a81793586"
   },
   "outputs": [
    {
     "data": {
      "text/plain": [
       "[367118.7031813723]"
      ]
     },
     "execution_count": 18,
     "metadata": {},
     "output_type": "execute_result"
    }
   ],
   "source": [
    "model_costs = []\n",
    "model_costs.append(get_loss(y,mean))\n",
    "model_costs"
   ]
  },
  {
   "cell_type": "markdown",
   "metadata": {
    "colab_type": "text",
    "id": "CUqCicCsSO5Y"
   },
   "source": [
    "To better see the value of the cost function we use also the RMSE, the Root Mean Square Deviation.  \n",
    "Basically the average of the losses, rooted."
   ]
  },
  {
   "cell_type": "code",
   "execution_count": 19,
   "metadata": {
    "colab": {},
    "colab_type": "code",
    "id": "EzeF2q-7XfNO"
   },
   "outputs": [],
   "source": [
    "from sklearn import linear_model\n",
    "def model_behaviour(df, features, target):\n",
    "  \n",
    "    y = df[target]\n",
    "    X = df[features]\n",
    "    \n",
    "    model = linear_model.LinearRegression()\n",
    "    \n",
    "    model.fit(X, y)\n",
    "    \n",
    "    y_hat = model.predict(X)\n",
    "    \n",
    "    cost = get_loss(y_hat, y)\n",
    "    \n",
    "    C0 = model.intercept_\n",
    "    Cs = model.coef_  \n",
    "    equation = str(np.round(C0))\n",
    "    for i in range(len( Cs)):\n",
    "       equation += \" + \" + str(np.round(Cs[i])) + \"*\" + features[i]\n",
    "    print (\"y = \", equation)\n",
    "    print(\"RMSE = {:.0f}\".format(cost))\n",
    "\n",
    "    return cost\n",
    "\n",
    "    \n",
    "    "
   ]
  },
  {
   "cell_type": "code",
   "execution_count": 20,
   "metadata": {
    "colab": {
     "base_uri": "https://localhost:8080/",
     "height": 67
    },
    "colab_type": "code",
    "executionInfo": {
     "elapsed": 602,
     "status": "ok",
     "timestamp": 1549151020914,
     "user": {
      "displayName": "Venkatesh Tadinada",
      "photoUrl": "",
      "userId": "11340529044771548550"
     },
     "user_tz": 480
    },
    "id": "ZoI11PkZZ5fc",
    "outputId": "3a7e7187-59a4-4779-dd9e-9a22bedc949d"
   },
   "outputs": [
    {
     "name": "stdout",
     "output_type": "stream",
     "text": [
      "y =  -43581.0 + 281.0*sqft_living\n",
      "RMSE = 261441\n"
     ]
    },
    {
     "data": {
      "text/plain": [
       "[367118.7031813723, 261440.79030067177]"
      ]
     },
     "execution_count": 20,
     "metadata": {},
     "output_type": "execute_result"
    }
   ],
   "source": [
    "cost = model_behaviour(df,[\"sqft_living\"],\"price\")\n",
    "model_costs.append(cost)\n",
    "model_costs"
   ]
  },
  {
   "cell_type": "markdown",
   "metadata": {
    "colab_type": "text",
    "id": "epPKfz0xSO5c"
   },
   "source": [
    "As you can see, it is quite high error, especially related to the average selling price."
   ]
  },
  {
   "cell_type": "markdown",
   "metadata": {
    "colab_type": "text",
    "id": "pGnUEKm7SO5d"
   },
   "source": [
    "Now, we can look at how training error behaves as model complexity increases."
   ]
  },
  {
   "cell_type": "markdown",
   "metadata": {
    "colab_type": "text",
    "id": "uN6c73uVSO53"
   },
   "source": [
    "## Learning a multiple regression model"
   ]
  },
  {
   "cell_type": "markdown",
   "metadata": {
    "colab_type": "text",
    "id": "_eHWNjGDSO54"
   },
   "source": [
    "We can add more features to the model, for example the number of bedrooms and bathrooms."
   ]
  },
  {
   "cell_type": "code",
   "execution_count": 21,
   "metadata": {
    "colab": {},
    "colab_type": "code",
    "id": "zNRJHOpFSO55"
   },
   "outputs": [],
   "source": [
    "more_features = ['sqft_living', 'bedrooms', 'bathrooms']"
   ]
  },
  {
   "cell_type": "code",
   "execution_count": 22,
   "metadata": {
    "colab": {
     "base_uri": "https://localhost:8080/",
     "height": 222
    },
    "colab_type": "code",
    "executionInfo": {
     "elapsed": 615,
     "status": "ok",
     "timestamp": 1549152707130,
     "user": {
      "displayName": "Venkatesh Tadinada",
      "photoUrl": "",
      "userId": "11340529044771548550"
     },
     "user_tz": 480
    },
    "id": "VLAow4USsNgx",
    "outputId": "199c84ea-2729-4028-b6f0-d60efaaa0637"
   },
   "outputs": [
    {
     "name": "stdout",
     "output_type": "stream",
     "text": [
      "y =  6938892.0 + -0.0*id + -35763.0*bedrooms + 41156.0*bathrooms + 110.0*sqft_living + 0.0*sqft_lot + 6765.0*floors + 582652.0*waterfront + 53031.0*view + 26255.0*condition + 96007.0*grade + 71.0*sqft_above + 40.0*sqft_basement + -2622.0*yr_built + 20.0*yr_renovated + -582.0*zipcode + 602355.0*lat + -212793.0*long + 22.0*sqft_living15 + -0.0*sqft_lot15\n",
      "RMSE = 201131\n"
     ]
    },
    {
     "data": {
      "text/plain": [
       "[367118.7031813723, 261440.79030067177, 201130.68126357702]"
      ]
     },
     "execution_count": 22,
     "metadata": {},
     "output_type": "execute_result"
    }
   ],
   "source": [
    "cost = model_behaviour(df,df.columns.drop(['price','date']),\"price\")\n",
    "model_costs.append(cost)\n",
    "model_costs"
   ]
  },
  {
   "cell_type": "code",
   "execution_count": 23,
   "metadata": {
    "colab": {
     "base_uri": "https://localhost:8080/",
     "height": 67
    },
    "colab_type": "code",
    "executionInfo": {
     "elapsed": 612,
     "status": "ok",
     "timestamp": 1549151163485,
     "user": {
      "displayName": "Venkatesh Tadinada",
      "photoUrl": "",
      "userId": "11340529044771548550"
     },
     "user_tz": 480
    },
    "id": "RAeNFUdDjTyg",
    "outputId": "7520102b-777b-4e91-b17b-c806052cdb8e"
   },
   "outputs": [
    {
     "name": "stdout",
     "output_type": "stream",
     "text": [
      "y =  74847.0 + 309.0*sqft_living + -57861.0*bedrooms + 7933.0*bathrooms\n",
      "RMSE = 257790\n"
     ]
    },
    {
     "data": {
      "text/plain": [
       "[367118.7031813723, 261440.79030067177, 201130.68126357702, 257789.5411485218]"
      ]
     },
     "execution_count": 23,
     "metadata": {},
     "output_type": "execute_result"
    }
   ],
   "source": [
    "cost = model_behaviour(df,more_features,\"price\")\n",
    "model_costs.append(cost)\n",
    "model_costs"
   ]
  },
  {
   "cell_type": "markdown",
   "metadata": {
    "colab_type": "text",
    "id": "6JAzkyzHSO56"
   },
   "source": [
    "We can learn a multiple regression model predicting 'price' based on the above features on the data with the following code:"
   ]
  },
  {
   "cell_type": "markdown",
   "metadata": {
    "colab_type": "text",
    "id": "PXMt2SWBSO6X"
   },
   "source": [
    "# Create some new features"
   ]
  },
  {
   "cell_type": "markdown",
   "metadata": {
    "colab_type": "text",
    "id": "eBJybYeoSO6Z"
   },
   "source": [
    "Although we often think of multiple regression as including multiple different features (e.g. # of bedrooms, squarefeet, and # of bathrooms) but we can also consider transformations of existing features e.g. the log of the squarefeet or even \"interaction\" features such as the product of bedrooms and bathrooms."
   ]
  },
  {
   "cell_type": "code",
   "execution_count": 24,
   "metadata": {
    "colab": {},
    "colab_type": "code",
    "id": "7skFaAz7SO6a"
   },
   "outputs": [],
   "source": [
    "from math import log"
   ]
  },
  {
   "cell_type": "markdown",
   "metadata": {
    "colab_type": "text",
    "id": "uKXf5S7wSO6l"
   },
   "source": [
    "Next we create the following new features as column :\n",
    "* bedrooms_squared = bedrooms\\*bedrooms\n",
    "* bed_bath_rooms = bedrooms\\*bathrooms\n",
    "* log_sqft_living = log(sqft_living)\n",
    "* lat_plus_long = lat + long \n",
    "* more polynomial features: bedrooms ^ 4, bathrooms ^ 7, size ^ 3\n"
   ]
  },
  {
   "cell_type": "code",
   "execution_count": 25,
   "metadata": {
    "colab": {},
    "colab_type": "code",
    "id": "1OfvdXKrSO6l"
   },
   "outputs": [],
   "source": [
    "df['bedrooms_squared'] = df['bedrooms'].apply(lambda x: x**2)"
   ]
  },
  {
   "cell_type": "code",
   "execution_count": 26,
   "metadata": {
    "colab": {},
    "colab_type": "code",
    "id": "kbwFGY0RSO6n"
   },
   "outputs": [],
   "source": [
    "df['bed_bath_rooms'] = df['bedrooms'] * df.bathrooms"
   ]
  },
  {
   "cell_type": "code",
   "execution_count": 27,
   "metadata": {
    "colab": {},
    "colab_type": "code",
    "id": "duWNbYRESO6q"
   },
   "outputs": [],
   "source": [
    "df['log_sqft_living'] = df['sqft_living'].apply(lambda x: log(x))"
   ]
  },
  {
   "cell_type": "code",
   "execution_count": 28,
   "metadata": {
    "colab": {},
    "colab_type": "code",
    "id": "na4U-IHpSO6r"
   },
   "outputs": [],
   "source": [
    "df['lat_plus_long'] = df['lat'] + df.long"
   ]
  },
  {
   "cell_type": "code",
   "execution_count": 29,
   "metadata": {
    "colab": {},
    "colab_type": "code",
    "id": "ODsOD5feSO6t"
   },
   "outputs": [],
   "source": [
    "df['bedrooms_4'] = df['bedrooms'].apply(lambda x: x**4)"
   ]
  },
  {
   "cell_type": "code",
   "execution_count": 30,
   "metadata": {
    "colab": {},
    "colab_type": "code",
    "id": "TNw3W4bISO6w"
   },
   "outputs": [],
   "source": [
    "df['bathrooms_7'] = df['bathrooms'].apply(lambda x: x**7)"
   ]
  },
  {
   "cell_type": "code",
   "execution_count": 31,
   "metadata": {
    "colab": {},
    "colab_type": "code",
    "id": "2vSjNkN5SO6x"
   },
   "outputs": [],
   "source": [
    "df['size_3'] = df['sqft_living'].apply(lambda x: x**3)"
   ]
  },
  {
   "cell_type": "code",
   "execution_count": 32,
   "metadata": {
    "colab": {
     "base_uri": "https://localhost:8080/",
     "height": 244
    },
    "colab_type": "code",
    "executionInfo": {
     "elapsed": 708,
     "status": "ok",
     "timestamp": 1549151654626,
     "user": {
      "displayName": "Venkatesh Tadinada",
      "photoUrl": "",
      "userId": "11340529044771548550"
     },
     "user_tz": 480
    },
    "id": "8iEyVgqvSO61",
    "outputId": "e3185d1f-81bc-443a-cbfe-d176ba943ca1"
   },
   "outputs": [
    {
     "data": {
      "text/html": [
       "<div>\n",
       "<style scoped>\n",
       "    .dataframe tbody tr th:only-of-type {\n",
       "        vertical-align: middle;\n",
       "    }\n",
       "\n",
       "    .dataframe tbody tr th {\n",
       "        vertical-align: top;\n",
       "    }\n",
       "\n",
       "    .dataframe thead th {\n",
       "        text-align: right;\n",
       "    }\n",
       "</style>\n",
       "<table border=\"1\" class=\"dataframe\">\n",
       "  <thead>\n",
       "    <tr style=\"text-align: right;\">\n",
       "      <th></th>\n",
       "      <th>id</th>\n",
       "      <th>date</th>\n",
       "      <th>price</th>\n",
       "      <th>bedrooms</th>\n",
       "      <th>bathrooms</th>\n",
       "      <th>sqft_living</th>\n",
       "      <th>sqft_lot</th>\n",
       "      <th>floors</th>\n",
       "      <th>waterfront</th>\n",
       "      <th>view</th>\n",
       "      <th>...</th>\n",
       "      <th>long</th>\n",
       "      <th>sqft_living15</th>\n",
       "      <th>sqft_lot15</th>\n",
       "      <th>bedrooms_squared</th>\n",
       "      <th>bed_bath_rooms</th>\n",
       "      <th>log_sqft_living</th>\n",
       "      <th>lat_plus_long</th>\n",
       "      <th>bedrooms_4</th>\n",
       "      <th>bathrooms_7</th>\n",
       "      <th>size_3</th>\n",
       "    </tr>\n",
       "  </thead>\n",
       "  <tbody>\n",
       "    <tr>\n",
       "      <th>0</th>\n",
       "      <td>7129300520</td>\n",
       "      <td>20141013T000000</td>\n",
       "      <td>221900.0</td>\n",
       "      <td>3</td>\n",
       "      <td>1.00</td>\n",
       "      <td>1180</td>\n",
       "      <td>5650</td>\n",
       "      <td>1.0</td>\n",
       "      <td>0</td>\n",
       "      <td>0</td>\n",
       "      <td>...</td>\n",
       "      <td>-122.257</td>\n",
       "      <td>1340</td>\n",
       "      <td>5650</td>\n",
       "      <td>9</td>\n",
       "      <td>3.00</td>\n",
       "      <td>7.073270</td>\n",
       "      <td>-74.7458</td>\n",
       "      <td>81</td>\n",
       "      <td>1.00000</td>\n",
       "      <td>1643032000</td>\n",
       "    </tr>\n",
       "    <tr>\n",
       "      <th>1</th>\n",
       "      <td>6414100192</td>\n",
       "      <td>20141209T000000</td>\n",
       "      <td>538000.0</td>\n",
       "      <td>3</td>\n",
       "      <td>2.25</td>\n",
       "      <td>2570</td>\n",
       "      <td>7242</td>\n",
       "      <td>2.0</td>\n",
       "      <td>0</td>\n",
       "      <td>0</td>\n",
       "      <td>...</td>\n",
       "      <td>-122.319</td>\n",
       "      <td>1690</td>\n",
       "      <td>7639</td>\n",
       "      <td>9</td>\n",
       "      <td>6.75</td>\n",
       "      <td>7.851661</td>\n",
       "      <td>-74.5980</td>\n",
       "      <td>81</td>\n",
       "      <td>291.92926</td>\n",
       "      <td>16974593000</td>\n",
       "    </tr>\n",
       "    <tr>\n",
       "      <th>2</th>\n",
       "      <td>5631500400</td>\n",
       "      <td>20150225T000000</td>\n",
       "      <td>180000.0</td>\n",
       "      <td>2</td>\n",
       "      <td>1.00</td>\n",
       "      <td>770</td>\n",
       "      <td>10000</td>\n",
       "      <td>1.0</td>\n",
       "      <td>0</td>\n",
       "      <td>0</td>\n",
       "      <td>...</td>\n",
       "      <td>-122.233</td>\n",
       "      <td>2720</td>\n",
       "      <td>8062</td>\n",
       "      <td>4</td>\n",
       "      <td>2.00</td>\n",
       "      <td>6.646391</td>\n",
       "      <td>-74.4951</td>\n",
       "      <td>16</td>\n",
       "      <td>1.00000</td>\n",
       "      <td>456533000</td>\n",
       "    </tr>\n",
       "    <tr>\n",
       "      <th>3</th>\n",
       "      <td>2487200875</td>\n",
       "      <td>20141209T000000</td>\n",
       "      <td>604000.0</td>\n",
       "      <td>4</td>\n",
       "      <td>3.00</td>\n",
       "      <td>1960</td>\n",
       "      <td>5000</td>\n",
       "      <td>1.0</td>\n",
       "      <td>0</td>\n",
       "      <td>0</td>\n",
       "      <td>...</td>\n",
       "      <td>-122.393</td>\n",
       "      <td>1360</td>\n",
       "      <td>5000</td>\n",
       "      <td>16</td>\n",
       "      <td>12.00</td>\n",
       "      <td>7.580700</td>\n",
       "      <td>-74.8722</td>\n",
       "      <td>256</td>\n",
       "      <td>2187.00000</td>\n",
       "      <td>7529536000</td>\n",
       "    </tr>\n",
       "    <tr>\n",
       "      <th>4</th>\n",
       "      <td>1954400510</td>\n",
       "      <td>20150218T000000</td>\n",
       "      <td>510000.0</td>\n",
       "      <td>3</td>\n",
       "      <td>2.00</td>\n",
       "      <td>1680</td>\n",
       "      <td>8080</td>\n",
       "      <td>1.0</td>\n",
       "      <td>0</td>\n",
       "      <td>0</td>\n",
       "      <td>...</td>\n",
       "      <td>-122.045</td>\n",
       "      <td>1800</td>\n",
       "      <td>7503</td>\n",
       "      <td>9</td>\n",
       "      <td>6.00</td>\n",
       "      <td>7.426549</td>\n",
       "      <td>-74.4282</td>\n",
       "      <td>81</td>\n",
       "      <td>128.00000</td>\n",
       "      <td>4741632000</td>\n",
       "    </tr>\n",
       "  </tbody>\n",
       "</table>\n",
       "<p>5 rows × 28 columns</p>\n",
       "</div>"
      ],
      "text/plain": [
       "           id             date     price  bedrooms  bathrooms  sqft_living  \\\n",
       "0  7129300520  20141013T000000  221900.0         3       1.00         1180   \n",
       "1  6414100192  20141209T000000  538000.0         3       2.25         2570   \n",
       "2  5631500400  20150225T000000  180000.0         2       1.00          770   \n",
       "3  2487200875  20141209T000000  604000.0         4       3.00         1960   \n",
       "4  1954400510  20150218T000000  510000.0         3       2.00         1680   \n",
       "\n",
       "   sqft_lot  floors  waterfront  view     ...          long  sqft_living15  \\\n",
       "0      5650     1.0           0     0     ...      -122.257           1340   \n",
       "1      7242     2.0           0     0     ...      -122.319           1690   \n",
       "2     10000     1.0           0     0     ...      -122.233           2720   \n",
       "3      5000     1.0           0     0     ...      -122.393           1360   \n",
       "4      8080     1.0           0     0     ...      -122.045           1800   \n",
       "\n",
       "   sqft_lot15  bedrooms_squared  bed_bath_rooms  log_sqft_living  \\\n",
       "0        5650                 9            3.00         7.073270   \n",
       "1        7639                 9            6.75         7.851661   \n",
       "2        8062                 4            2.00         6.646391   \n",
       "3        5000                16           12.00         7.580700   \n",
       "4        7503                 9            6.00         7.426549   \n",
       "\n",
       "   lat_plus_long  bedrooms_4  bathrooms_7       size_3  \n",
       "0       -74.7458          81      1.00000   1643032000  \n",
       "1       -74.5980          81    291.92926  16974593000  \n",
       "2       -74.4951          16      1.00000    456533000  \n",
       "3       -74.8722         256   2187.00000   7529536000  \n",
       "4       -74.4282          81    128.00000   4741632000  \n",
       "\n",
       "[5 rows x 28 columns]"
      ]
     },
     "execution_count": 32,
     "metadata": {},
     "output_type": "execute_result"
    }
   ],
   "source": [
    "df.head()"
   ]
  },
  {
   "cell_type": "markdown",
   "metadata": {
    "colab_type": "text",
    "id": "woYxhqa3SO63"
   },
   "source": [
    "* Squaring bedrooms will increase the separation between not many bedrooms (e.g. 1) and lots of bedrooms (e.g. 4) since 1^2 = 1 but 4^2 = 16. Consequently this feature will mostly affect houses with many bedrooms.\n",
    "* bedrooms times bathrooms gives what's called an \"interaction\" feature. It is large when *both* of them are large.\n",
    "* Taking the log of squarefeet has the effect of bringing large values closer together and spreading out small values.\n",
    "* Adding latitude to longitude is totally non-sensical but we will do it anyway (you'll see why)"
   ]
  },
  {
   "cell_type": "markdown",
   "metadata": {
    "colab_type": "text",
    "id": "rk2XyD74SO64"
   },
   "source": [
    "## Learning Multiple Models"
   ]
  },
  {
   "cell_type": "markdown",
   "metadata": {
    "colab_type": "text",
    "id": "4xPzTJObSO64"
   },
   "source": [
    "Now we will learn the weights for five (nested) models for predicting house prices. The first model will have the fewest features, the second model will add more features and so on:"
   ]
  },
  {
   "cell_type": "code",
   "execution_count": 33,
   "metadata": {
    "colab": {},
    "colab_type": "code",
    "id": "S1IoNt8XSO65"
   },
   "outputs": [],
   "source": [
    "model_1_features = ['sqft_living', 'bedrooms', 'bathrooms', 'lat', 'long', 'sqft_lot', 'floors']\n",
    "model_2_features = model_1_features + ['log_sqft_living', 'bedrooms_squared', 'bed_bath_rooms']\n",
    "model_3_features = model_2_features + ['lat_plus_long']\n",
    "model_4_features = model_3_features + ['bedrooms_4', 'bathrooms_7']\n",
    "model_5_features = model_4_features + ['size_3']"
   ]
  },
  {
   "cell_type": "markdown",
   "metadata": {
    "colab_type": "text",
    "id": "sCZ24gksSO66"
   },
   "source": [
    "Now that we have the features, we learn the weights for the five different models for predicting target = 'price' using and look at the value of the weights/coefficients:"
   ]
  },
  {
   "cell_type": "code",
   "execution_count": 34,
   "metadata": {
    "colab": {
     "base_uri": "https://localhost:8080/",
     "height": 70
    },
    "colab_type": "code",
    "executionInfo": {
     "elapsed": 634,
     "status": "ok",
     "timestamp": 1549151697081,
     "user": {
      "displayName": "Venkatesh Tadinada",
      "photoUrl": "",
      "userId": "11340529044771548550"
     },
     "user_tz": 480
    },
    "id": "m4pzQ8z2lEmL",
    "outputId": "d0fadc70-e282-4f63-f115-6534fe7e9437"
   },
   "outputs": [
    {
     "name": "stdout",
     "output_type": "stream",
     "text": [
      "y =  -69873110.0 + 307.0*sqft_living + -53737.0*bedrooms + 19263.0*bathrooms + 659920.0*lat + -315325.0*long + 0.0*sqft_lot + -5770.0*floors\n",
      "RMSE = 234905\n"
     ]
    }
   ],
   "source": [
    "cost = model_behaviour(df,model_1_features,\"price\")\n",
    "model_costs.append(cost)\n"
   ]
  },
  {
   "cell_type": "code",
   "execution_count": 35,
   "metadata": {
    "colab": {
     "base_uri": "https://localhost:8080/",
     "height": 70
    },
    "colab_type": "code",
    "executionInfo": {
     "elapsed": 692,
     "status": "ok",
     "timestamp": 1549151720289,
     "user": {
      "displayName": "Venkatesh Tadinada",
      "photoUrl": "",
      "userId": "11340529044771548550"
     },
     "user_tz": 480
    },
    "id": "AkLERbPnlK2-",
    "outputId": "df01af81-e8a4-4c29-a0fc-d9e56ecb6978"
   },
   "outputs": [
    {
     "name": "stdout",
     "output_type": "stream",
     "text": [
      "y =  -61776267.0 + 522.0*sqft_living + -5831.0*bedrooms + 91387.0*bathrooms + 655377.0*lat + -279014.0*long + -0.0*sqft_lot + -1641.0*floors + -543969.0*log_sqft_living + 766.0*bedrooms_squared + -14998.0*bed_bath_rooms\n",
      "RMSE = 227350\n"
     ]
    }
   ],
   "source": [
    "cost = model_behaviour(df,model_2_features,\"price\")\n",
    "model_costs.append(cost)\n"
   ]
  },
  {
   "cell_type": "code",
   "execution_count": 36,
   "metadata": {
    "colab": {
     "base_uri": "https://localhost:8080/",
     "height": 70
    },
    "colab_type": "code",
    "executionInfo": {
     "elapsed": 760,
     "status": "ok",
     "timestamp": 1549151725905,
     "user": {
      "displayName": "Venkatesh Tadinada",
      "photoUrl": "",
      "userId": "11340529044771548550"
     },
     "user_tz": 480
    },
    "id": "l9POUY54lSTm",
    "outputId": "78b0e3d0-73a5-436f-e41d-bea6aef6676b"
   },
   "outputs": [
    {
     "name": "stdout",
     "output_type": "stream",
     "text": [
      "y =  -61776267.0 + 522.0*sqft_living + -5831.0*bedrooms + 91387.0*bathrooms + 529923.0*lat + -404469.0*long + -0.0*sqft_lot + -1641.0*floors + -543969.0*log_sqft_living + 766.0*bedrooms_squared + -14998.0*bed_bath_rooms + 125454.0*lat_plus_long\n",
      "RMSE = 227350\n"
     ]
    }
   ],
   "source": [
    "cost = model_behaviour(df,model_3_features,\"price\")\n",
    "model_costs.append(cost)\n"
   ]
  },
  {
   "cell_type": "code",
   "execution_count": 37,
   "metadata": {
    "colab": {
     "base_uri": "https://localhost:8080/",
     "height": 70
    },
    "colab_type": "code",
    "executionInfo": {
     "elapsed": 466,
     "status": "ok",
     "timestamp": 1549151732193,
     "user": {
      "displayName": "Venkatesh Tadinada",
      "photoUrl": "",
      "userId": "11340529044771548550"
     },
     "user_tz": 480
    },
    "id": "9BgBS2Ttla-w",
    "outputId": "8117d40b-76c2-42a1-c0b8-ec4a528e3a69"
   },
   "outputs": [
    {
     "name": "stdout",
     "output_type": "stream",
     "text": [
      "y =  -62393515.0 + 507.0*sqft_living + 37976.0*bedrooms + 73081.0*bathrooms + 533075.0*lat + -406804.0*long + -0.0*sqft_lot + 442.0*floors + -514539.0*log_sqft_living + -6644.0*bedrooms_squared + -11263.0*bed_bath_rooms + 126271.0*lat_plus_long + 6.0*bedrooms_4 + 1.0*bathrooms_7\n",
      "RMSE = 226783\n"
     ]
    }
   ],
   "source": [
    "cost = model_behaviour(df,model_4_features,\"price\")\n",
    "model_costs.append(cost)\n"
   ]
  },
  {
   "cell_type": "code",
   "execution_count": 38,
   "metadata": {
    "colab": {
     "base_uri": "https://localhost:8080/",
     "height": 70
    },
    "colab_type": "code",
    "executionInfo": {
     "elapsed": 467,
     "status": "ok",
     "timestamp": 1549151736014,
     "user": {
      "displayName": "Venkatesh Tadinada",
      "photoUrl": "",
      "userId": "11340529044771548550"
     },
     "user_tz": 480
    },
    "id": "4kWky8Yklf-o",
    "outputId": "c070393a-8a9f-4015-d6f3-61eec1f1388b"
   },
   "outputs": [
    {
     "name": "stdout",
     "output_type": "stream",
     "text": [
      "y =  -62848726.0 + 438.0*sqft_living + 27657.0*bedrooms + 59701.0*bathrooms + 533192.0*lat + -406016.0*long + -0.0*sqft_lot + 760.0*floors + -412311.0*log_sqft_living + -6572.0*bedrooms_squared + -6800.0*bed_bath_rooms + 127175.0*lat_plus_long + 6.0*bedrooms_4 + -0.0*bathrooms_7 + 0.0*size_3\n",
      "RMSE = 226533\n"
     ]
    }
   ],
   "source": [
    "cost = model_behaviour(df,model_5_features,\"price\")\n",
    "model_costs.append(cost)\n"
   ]
  },
  {
   "cell_type": "code",
   "execution_count": 39,
   "metadata": {
    "colab": {
     "base_uri": "https://localhost:8080/",
     "height": 50
    },
    "colab_type": "code",
    "executionInfo": {
     "elapsed": 682,
     "status": "ok",
     "timestamp": 1549152146804,
     "user": {
      "displayName": "Venkatesh Tadinada",
      "photoUrl": "",
      "userId": "11340529044771548550"
     },
     "user_tz": 480
    },
    "id": "Z-XMZ0VYqcNu",
    "outputId": "b2f2882d-85c2-4333-fbd3-b09301d7a19e"
   },
   "outputs": [
    {
     "data": {
      "text/plain": [
       "LinearRegression(copy_X=True, fit_intercept=True, n_jobs=None,\n",
       "         normalize=False)"
      ]
     },
     "execution_count": 39,
     "metadata": {},
     "output_type": "execute_result"
    }
   ],
   "source": [
    "model_1 = linear_model.LinearRegression()\n",
    "model_1.fit(df[model_1_features], y)"
   ]
  },
  {
   "cell_type": "code",
   "execution_count": 40,
   "metadata": {
    "colab": {
     "base_uri": "https://localhost:8080/",
     "height": 50
    },
    "colab_type": "code",
    "executionInfo": {
     "elapsed": 816,
     "status": "ok",
     "timestamp": 1549152148900,
     "user": {
      "displayName": "Venkatesh Tadinada",
      "photoUrl": "",
      "userId": "11340529044771548550"
     },
     "user_tz": 480
    },
    "id": "Le9d37YMqX4C",
    "outputId": "30d457a1-bbcd-493f-c093-ff31cb7829d4"
   },
   "outputs": [
    {
     "data": {
      "text/plain": [
       "LinearRegression(copy_X=True, fit_intercept=True, n_jobs=None,\n",
       "         normalize=False)"
      ]
     },
     "execution_count": 40,
     "metadata": {},
     "output_type": "execute_result"
    }
   ],
   "source": [
    "model_2 = linear_model.LinearRegression()\n",
    "model_2.fit(df[model_2_features], y)"
   ]
  },
  {
   "cell_type": "code",
   "execution_count": 41,
   "metadata": {
    "colab": {
     "base_uri": "https://localhost:8080/",
     "height": 50
    },
    "colab_type": "code",
    "executionInfo": {
     "elapsed": 780,
     "status": "ok",
     "timestamp": 1549152150473,
     "user": {
      "displayName": "Venkatesh Tadinada",
      "photoUrl": "",
      "userId": "11340529044771548550"
     },
     "user_tz": 480
    },
    "id": "_LVzZ9CgqXRE",
    "outputId": "086ecf18-efc5-423b-ff21-77d9159ec91f"
   },
   "outputs": [
    {
     "data": {
      "text/plain": [
       "LinearRegression(copy_X=True, fit_intercept=True, n_jobs=None,\n",
       "         normalize=False)"
      ]
     },
     "execution_count": 41,
     "metadata": {},
     "output_type": "execute_result"
    }
   ],
   "source": [
    "model_3 = linear_model.LinearRegression()\n",
    "model_3.fit(df[model_3_features], y)"
   ]
  },
  {
   "cell_type": "code",
   "execution_count": 42,
   "metadata": {
    "colab": {
     "base_uri": "https://localhost:8080/",
     "height": 50
    },
    "colab_type": "code",
    "executionInfo": {
     "elapsed": 531,
     "status": "ok",
     "timestamp": 1549152153770,
     "user": {
      "displayName": "Venkatesh Tadinada",
      "photoUrl": "",
      "userId": "11340529044771548550"
     },
     "user_tz": 480
    },
    "id": "wOuW_H3JqWzH",
    "outputId": "63fb0cca-cd6c-4ae3-a7c9-9c77203c5a60"
   },
   "outputs": [
    {
     "data": {
      "text/plain": [
       "LinearRegression(copy_X=True, fit_intercept=True, n_jobs=None,\n",
       "         normalize=False)"
      ]
     },
     "execution_count": 42,
     "metadata": {},
     "output_type": "execute_result"
    }
   ],
   "source": [
    "model_4 = linear_model.LinearRegression()\n",
    "model_4.fit(df[model_4_features], y)"
   ]
  },
  {
   "cell_type": "code",
   "execution_count": 43,
   "metadata": {
    "colab": {
     "base_uri": "https://localhost:8080/",
     "height": 50
    },
    "colab_type": "code",
    "executionInfo": {
     "elapsed": 571,
     "status": "ok",
     "timestamp": 1549152155716,
     "user": {
      "displayName": "Venkatesh Tadinada",
      "photoUrl": "",
      "userId": "11340529044771548550"
     },
     "user_tz": 480
    },
    "id": "7691x_eDqWck",
    "outputId": "2079fd5f-f7da-456c-cdce-0d97efbf7343"
   },
   "outputs": [
    {
     "data": {
      "text/plain": [
       "LinearRegression(copy_X=True, fit_intercept=True, n_jobs=None,\n",
       "         normalize=False)"
      ]
     },
     "execution_count": 43,
     "metadata": {},
     "output_type": "execute_result"
    }
   ],
   "source": [
    "model_5 = linear_model.LinearRegression()\n",
    "model_5.fit(df[model_5_features], y)"
   ]
  },
  {
   "cell_type": "code",
   "execution_count": 44,
   "metadata": {
    "colab": {
     "base_uri": "https://localhost:8080/",
     "height": 101
    },
    "colab_type": "code",
    "executionInfo": {
     "elapsed": 586,
     "status": "ok",
     "timestamp": 1549152162239,
     "user": {
      "displayName": "Venkatesh Tadinada",
      "photoUrl": "",
      "userId": "11340529044771548550"
     },
     "user_tz": 480
    },
    "id": "9fBvipE6qWEu",
    "outputId": "f303db09-13dc-4e04-c063-80363a2e9eaa"
   },
   "outputs": [
    {
     "name": "stdout",
     "output_type": "stream",
     "text": [
      "[ 3.06930393e+02 -5.37365974e+04  1.92633985e+04  6.59919715e+05\n",
      " -3.15325117e+05  6.01533077e-02 -5.77002641e+03]\n",
      "[ 5.22290856e+02 -5.83083200e+03  9.13874631e+04  6.55377075e+05\n",
      " -2.79014318e+05 -4.38190098e-03 -1.64123192e+03 -5.43968799e+05\n",
      "  7.65579830e+02 -1.49981031e+04]\n"
     ]
    }
   ],
   "source": [
    "# You can examine/extract each model's coefficients, for example:\n",
    "print (model_1.coef_)\n",
    "print (model_2.coef_)"
   ]
  },
  {
   "cell_type": "markdown",
   "metadata": {
    "colab_type": "text",
    "id": "33IOcf8ISO7L"
   },
   "source": [
    "Interesting: in the previous model the weight coefficient for the size lot was positive but now in the model_2 is negative.  \n",
    "This is an effect of adding the feature logging the size."
   ]
  },
  {
   "cell_type": "markdown",
   "metadata": {
    "colab_type": "text",
    "id": "1C4QlmLxSO7M"
   },
   "source": [
    "## Comparing multiple models\n",
    "\n",
    "Now that you've learned three models and extracted the model weights we want to evaluate which model is best."
   ]
  },
  {
   "cell_type": "markdown",
   "metadata": {
    "colab_type": "text",
    "id": "W-0M_ZwjSO7M"
   },
   "source": [
    "We can use the loss function from earlier to compute the RSS on training data for each of the models."
   ]
  },
  {
   "cell_type": "code",
   "execution_count": 45,
   "metadata": {
    "colab": {
     "base_uri": "https://localhost:8080/",
     "height": 101
    },
    "colab_type": "code",
    "executionInfo": {
     "elapsed": 629,
     "status": "ok",
     "timestamp": 1549152168989,
     "user": {
      "displayName": "Venkatesh Tadinada",
      "photoUrl": "",
      "userId": "11340529044771548550"
     },
     "user_tz": 480
    },
    "id": "8fI94LgvqVd2",
    "outputId": "78b22a7b-e140-4c13-e88c-4c1f4b47b9e3"
   },
   "outputs": [
    {
     "name": "stdout",
     "output_type": "stream",
     "text": [
      "234904.62730622126\n",
      "227349.81661198896\n",
      "227349.81661198914\n",
      "226782.75610270022\n",
      "226532.7041181746\n"
     ]
    }
   ],
   "source": [
    "# Compute the RSS for each of the models:\n",
    "print (get_loss(model_1.predict(df[model_1_features]), y))\n",
    "print (get_loss(model_2.predict(df[model_2_features]), y))\n",
    "print (get_loss(model_3.predict(df[model_3_features]), y))\n",
    "print (get_loss(model_4.predict(df[model_4_features]), y))\n",
    "print (get_loss(model_5.predict(df[model_5_features]), y))"
   ]
  },
  {
   "cell_type": "markdown",
   "metadata": {
    "colab_type": "text",
    "collapsed": true,
    "id": "a_UCFcnrSO7P"
   },
   "source": [
    "model_5 has the lowest RSS on the training data.  \n",
    "The **most complex model**."
   ]
  },
  {
   "cell_type": "markdown",
   "metadata": {
    "colab_type": "text",
    "id": "TxshXTeZSO7Q"
   },
   "source": [
    "## The test error"
   ]
  },
  {
   "cell_type": "markdown",
   "metadata": {
    "colab_type": "text",
    "id": "2U0BsTOJSO7Q"
   },
   "source": [
    "Training error decreases quite significantly with model complexity. This is quite intuitive, because the model was fit on the training points and then as we increase the model complexity, we are better able to fit the training data points."
   ]
  },
  {
   "cell_type": "markdown",
   "metadata": {
    "colab_type": "text",
    "id": "ijYAew1tSO7R"
   },
   "source": [
    "A natural question is whether a training error is a good measure of predictive performance?  \n",
    "\n",
    "The issue is that the training error is overly optimistic and that's because the beta parameters were fit on the training data to minimise the residual sum of squares, which can often be related to the training error.\n",
    "So, in general, having small training error does not imply having good predictive performance.\n",
    "\n",
    "This takes us to something called test error (or out-of-sample error): we hold out some houses from the data set and we're putting these into what's called a test set.\n",
    "And when we fit our models, we just fit our models on the training data set.  \n",
    "But then when we go to assess our performance of that model we look at these test houses in the test dataset and these are hopefully serving as a proxy of everything out there in the world.\n",
    "\n",
    "Bottom line, the test error is a (noisy) approximation of the true error."
   ]
  },
  {
   "cell_type": "markdown",
   "metadata": {
    "colab_type": "text",
    "id": "JQA7UwVrSO7S"
   },
   "source": [
    "## Split data into training and testing.\n",
    "Let's see how can be applied to our example.  \n",
    "First we split the data into a training set and a testing set using a function from *sklearn*, the *train_test_split()*.\n",
    "We use a seed for reproducibility.   "
   ]
  },
  {
   "cell_type": "code",
   "execution_count": 46,
   "metadata": {
    "colab": {},
    "colab_type": "code",
    "id": "PUdURIPFSO7T"
   },
   "outputs": [],
   "source": [
    "from sklearn.model_selection import train_test_split\n",
    "train_data,test_data = train_test_split(df, test_size=0.3, random_state=999)"
   ]
  },
  {
   "cell_type": "code",
   "execution_count": 47,
   "metadata": {
    "colab": {
     "base_uri": "https://localhost:8080/",
     "height": 244
    },
    "colab_type": "code",
    "executionInfo": {
     "elapsed": 730,
     "status": "ok",
     "timestamp": 1549152181399,
     "user": {
      "displayName": "Venkatesh Tadinada",
      "photoUrl": "",
      "userId": "11340529044771548550"
     },
     "user_tz": 480
    },
    "id": "raipy5T6SO7U",
    "outputId": "f2bc0a5b-a2f3-4b56-c395-5292773cec82"
   },
   "outputs": [
    {
     "data": {
      "text/html": [
       "<div>\n",
       "<style scoped>\n",
       "    .dataframe tbody tr th:only-of-type {\n",
       "        vertical-align: middle;\n",
       "    }\n",
       "\n",
       "    .dataframe tbody tr th {\n",
       "        vertical-align: top;\n",
       "    }\n",
       "\n",
       "    .dataframe thead th {\n",
       "        text-align: right;\n",
       "    }\n",
       "</style>\n",
       "<table border=\"1\" class=\"dataframe\">\n",
       "  <thead>\n",
       "    <tr style=\"text-align: right;\">\n",
       "      <th></th>\n",
       "      <th>id</th>\n",
       "      <th>date</th>\n",
       "      <th>price</th>\n",
       "      <th>bedrooms</th>\n",
       "      <th>bathrooms</th>\n",
       "      <th>sqft_living</th>\n",
       "      <th>sqft_lot</th>\n",
       "      <th>floors</th>\n",
       "      <th>waterfront</th>\n",
       "      <th>view</th>\n",
       "      <th>...</th>\n",
       "      <th>long</th>\n",
       "      <th>sqft_living15</th>\n",
       "      <th>sqft_lot15</th>\n",
       "      <th>bedrooms_squared</th>\n",
       "      <th>bed_bath_rooms</th>\n",
       "      <th>log_sqft_living</th>\n",
       "      <th>lat_plus_long</th>\n",
       "      <th>bedrooms_4</th>\n",
       "      <th>bathrooms_7</th>\n",
       "      <th>size_3</th>\n",
       "    </tr>\n",
       "  </thead>\n",
       "  <tbody>\n",
       "    <tr>\n",
       "      <th>9318</th>\n",
       "      <td>4420600015</td>\n",
       "      <td>20141006T000000</td>\n",
       "      <td>571500.0</td>\n",
       "      <td>4</td>\n",
       "      <td>2.25</td>\n",
       "      <td>2810</td>\n",
       "      <td>25990</td>\n",
       "      <td>2.0</td>\n",
       "      <td>0</td>\n",
       "      <td>0</td>\n",
       "      <td>...</td>\n",
       "      <td>-122.293</td>\n",
       "      <td>2020</td>\n",
       "      <td>16140</td>\n",
       "      <td>16</td>\n",
       "      <td>9.0</td>\n",
       "      <td>7.940940</td>\n",
       "      <td>-74.9937</td>\n",
       "      <td>256</td>\n",
       "      <td>291.929260</td>\n",
       "      <td>22188041000</td>\n",
       "    </tr>\n",
       "    <tr>\n",
       "      <th>15904</th>\n",
       "      <td>8691390980</td>\n",
       "      <td>20140902T000000</td>\n",
       "      <td>728000.0</td>\n",
       "      <td>4</td>\n",
       "      <td>2.50</td>\n",
       "      <td>3290</td>\n",
       "      <td>5951</td>\n",
       "      <td>2.0</td>\n",
       "      <td>0</td>\n",
       "      <td>0</td>\n",
       "      <td>...</td>\n",
       "      <td>-121.976</td>\n",
       "      <td>3240</td>\n",
       "      <td>6159</td>\n",
       "      <td>16</td>\n",
       "      <td>10.0</td>\n",
       "      <td>8.098643</td>\n",
       "      <td>-74.3761</td>\n",
       "      <td>256</td>\n",
       "      <td>610.351562</td>\n",
       "      <td>35611289000</td>\n",
       "    </tr>\n",
       "    <tr>\n",
       "      <th>7599</th>\n",
       "      <td>3326059191</td>\n",
       "      <td>20140616T000000</td>\n",
       "      <td>410000.0</td>\n",
       "      <td>4</td>\n",
       "      <td>2.00</td>\n",
       "      <td>1580</td>\n",
       "      <td>9581</td>\n",
       "      <td>1.0</td>\n",
       "      <td>0</td>\n",
       "      <td>0</td>\n",
       "      <td>...</td>\n",
       "      <td>-122.165</td>\n",
       "      <td>1580</td>\n",
       "      <td>10552</td>\n",
       "      <td>16</td>\n",
       "      <td>8.0</td>\n",
       "      <td>7.365180</td>\n",
       "      <td>-74.4730</td>\n",
       "      <td>256</td>\n",
       "      <td>128.000000</td>\n",
       "      <td>3944312000</td>\n",
       "    </tr>\n",
       "    <tr>\n",
       "      <th>14893</th>\n",
       "      <td>6817810190</td>\n",
       "      <td>20140701T000000</td>\n",
       "      <td>401000.0</td>\n",
       "      <td>3</td>\n",
       "      <td>2.00</td>\n",
       "      <td>1240</td>\n",
       "      <td>11172</td>\n",
       "      <td>1.0</td>\n",
       "      <td>0</td>\n",
       "      <td>0</td>\n",
       "      <td>...</td>\n",
       "      <td>-122.037</td>\n",
       "      <td>1330</td>\n",
       "      <td>14102</td>\n",
       "      <td>9</td>\n",
       "      <td>6.0</td>\n",
       "      <td>7.122867</td>\n",
       "      <td>-74.4006</td>\n",
       "      <td>81</td>\n",
       "      <td>128.000000</td>\n",
       "      <td>1906624000</td>\n",
       "    </tr>\n",
       "    <tr>\n",
       "      <th>20508</th>\n",
       "      <td>7625703357</td>\n",
       "      <td>20150227T000000</td>\n",
       "      <td>394950.0</td>\n",
       "      <td>2</td>\n",
       "      <td>2.25</td>\n",
       "      <td>1300</td>\n",
       "      <td>2104</td>\n",
       "      <td>2.0</td>\n",
       "      <td>0</td>\n",
       "      <td>0</td>\n",
       "      <td>...</td>\n",
       "      <td>-122.388</td>\n",
       "      <td>1430</td>\n",
       "      <td>1850</td>\n",
       "      <td>4</td>\n",
       "      <td>4.5</td>\n",
       "      <td>7.170120</td>\n",
       "      <td>-74.8403</td>\n",
       "      <td>16</td>\n",
       "      <td>291.929260</td>\n",
       "      <td>2197000000</td>\n",
       "    </tr>\n",
       "  </tbody>\n",
       "</table>\n",
       "<p>5 rows × 28 columns</p>\n",
       "</div>"
      ],
      "text/plain": [
       "               id             date     price  bedrooms  bathrooms  \\\n",
       "9318   4420600015  20141006T000000  571500.0         4       2.25   \n",
       "15904  8691390980  20140902T000000  728000.0         4       2.50   \n",
       "7599   3326059191  20140616T000000  410000.0         4       2.00   \n",
       "14893  6817810190  20140701T000000  401000.0         3       2.00   \n",
       "20508  7625703357  20150227T000000  394950.0         2       2.25   \n",
       "\n",
       "       sqft_living  sqft_lot  floors  waterfront  view     ...          long  \\\n",
       "9318          2810     25990     2.0           0     0     ...      -122.293   \n",
       "15904         3290      5951     2.0           0     0     ...      -121.976   \n",
       "7599          1580      9581     1.0           0     0     ...      -122.165   \n",
       "14893         1240     11172     1.0           0     0     ...      -122.037   \n",
       "20508         1300      2104     2.0           0     0     ...      -122.388   \n",
       "\n",
       "       sqft_living15  sqft_lot15  bedrooms_squared  bed_bath_rooms  \\\n",
       "9318            2020       16140                16             9.0   \n",
       "15904           3240        6159                16            10.0   \n",
       "7599            1580       10552                16             8.0   \n",
       "14893           1330       14102                 9             6.0   \n",
       "20508           1430        1850                 4             4.5   \n",
       "\n",
       "       log_sqft_living  lat_plus_long  bedrooms_4  bathrooms_7       size_3  \n",
       "9318          7.940940       -74.9937         256   291.929260  22188041000  \n",
       "15904         8.098643       -74.3761         256   610.351562  35611289000  \n",
       "7599          7.365180       -74.4730         256   128.000000   3944312000  \n",
       "14893         7.122867       -74.4006          81   128.000000   1906624000  \n",
       "20508         7.170120       -74.8403          16   291.929260   2197000000  \n",
       "\n",
       "[5 rows x 28 columns]"
      ]
     },
     "execution_count": 47,
     "metadata": {},
     "output_type": "execute_result"
    }
   ],
   "source": [
    "train_data.head()"
   ]
  },
  {
   "cell_type": "code",
   "execution_count": 48,
   "metadata": {
    "colab": {
     "base_uri": "https://localhost:8080/",
     "height": 34
    },
    "colab_type": "code",
    "executionInfo": {
     "elapsed": 466,
     "status": "ok",
     "timestamp": 1549152185593,
     "user": {
      "displayName": "Venkatesh Tadinada",
      "photoUrl": "",
      "userId": "11340529044771548550"
     },
     "user_tz": 480
    },
    "id": "JaNwivrNSO7W",
    "outputId": "ae8fe788-e5ee-4b93-bd72-42ad48eabe14"
   },
   "outputs": [
    {
     "data": {
      "text/plain": [
       "(15129, 28)"
      ]
     },
     "execution_count": 48,
     "metadata": {},
     "output_type": "execute_result"
    }
   ],
   "source": [
    "train_data.shape"
   ]
  },
  {
   "cell_type": "code",
   "execution_count": 49,
   "metadata": {
    "colab": {
     "base_uri": "https://localhost:8080/",
     "height": 244
    },
    "colab_type": "code",
    "executionInfo": {
     "elapsed": 574,
     "status": "ok",
     "timestamp": 1549152189260,
     "user": {
      "displayName": "Venkatesh Tadinada",
      "photoUrl": "",
      "userId": "11340529044771548550"
     },
     "user_tz": 480
    },
    "id": "qPCzWiDlSO7X",
    "outputId": "96f6af12-b9e8-4873-f1e7-c1edd9f29a5d"
   },
   "outputs": [
    {
     "data": {
      "text/html": [
       "<div>\n",
       "<style scoped>\n",
       "    .dataframe tbody tr th:only-of-type {\n",
       "        vertical-align: middle;\n",
       "    }\n",
       "\n",
       "    .dataframe tbody tr th {\n",
       "        vertical-align: top;\n",
       "    }\n",
       "\n",
       "    .dataframe thead th {\n",
       "        text-align: right;\n",
       "    }\n",
       "</style>\n",
       "<table border=\"1\" class=\"dataframe\">\n",
       "  <thead>\n",
       "    <tr style=\"text-align: right;\">\n",
       "      <th></th>\n",
       "      <th>id</th>\n",
       "      <th>date</th>\n",
       "      <th>price</th>\n",
       "      <th>bedrooms</th>\n",
       "      <th>bathrooms</th>\n",
       "      <th>sqft_living</th>\n",
       "      <th>sqft_lot</th>\n",
       "      <th>floors</th>\n",
       "      <th>waterfront</th>\n",
       "      <th>view</th>\n",
       "      <th>...</th>\n",
       "      <th>long</th>\n",
       "      <th>sqft_living15</th>\n",
       "      <th>sqft_lot15</th>\n",
       "      <th>bedrooms_squared</th>\n",
       "      <th>bed_bath_rooms</th>\n",
       "      <th>log_sqft_living</th>\n",
       "      <th>lat_plus_long</th>\n",
       "      <th>bedrooms_4</th>\n",
       "      <th>bathrooms_7</th>\n",
       "      <th>size_3</th>\n",
       "    </tr>\n",
       "  </thead>\n",
       "  <tbody>\n",
       "    <tr>\n",
       "      <th>10033</th>\n",
       "      <td>4440400125</td>\n",
       "      <td>20140508T000000</td>\n",
       "      <td>228000.0</td>\n",
       "      <td>4</td>\n",
       "      <td>1.75</td>\n",
       "      <td>2000</td>\n",
       "      <td>6120</td>\n",
       "      <td>1.0</td>\n",
       "      <td>0</td>\n",
       "      <td>0</td>\n",
       "      <td>...</td>\n",
       "      <td>-122.258</td>\n",
       "      <td>1880</td>\n",
       "      <td>6120</td>\n",
       "      <td>16</td>\n",
       "      <td>7.00</td>\n",
       "      <td>7.600902</td>\n",
       "      <td>-74.7545</td>\n",
       "      <td>256</td>\n",
       "      <td>50.265076</td>\n",
       "      <td>8000000000</td>\n",
       "    </tr>\n",
       "    <tr>\n",
       "      <th>20870</th>\n",
       "      <td>3575305485</td>\n",
       "      <td>20140829T000000</td>\n",
       "      <td>409000.0</td>\n",
       "      <td>3</td>\n",
       "      <td>2.50</td>\n",
       "      <td>1890</td>\n",
       "      <td>6500</td>\n",
       "      <td>2.0</td>\n",
       "      <td>0</td>\n",
       "      <td>0</td>\n",
       "      <td>...</td>\n",
       "      <td>-122.058</td>\n",
       "      <td>2340</td>\n",
       "      <td>7500</td>\n",
       "      <td>9</td>\n",
       "      <td>7.50</td>\n",
       "      <td>7.544332</td>\n",
       "      <td>-74.4355</td>\n",
       "      <td>81</td>\n",
       "      <td>610.351562</td>\n",
       "      <td>6751269000</td>\n",
       "    </tr>\n",
       "    <tr>\n",
       "      <th>21323</th>\n",
       "      <td>9402800005</td>\n",
       "      <td>20141028T000000</td>\n",
       "      <td>1500000.0</td>\n",
       "      <td>3</td>\n",
       "      <td>3.50</td>\n",
       "      <td>3530</td>\n",
       "      <td>3610</td>\n",
       "      <td>2.0</td>\n",
       "      <td>0</td>\n",
       "      <td>0</td>\n",
       "      <td>...</td>\n",
       "      <td>-122.339</td>\n",
       "      <td>1780</td>\n",
       "      <td>3610</td>\n",
       "      <td>9</td>\n",
       "      <td>10.50</td>\n",
       "      <td>8.169053</td>\n",
       "      <td>-74.6533</td>\n",
       "      <td>81</td>\n",
       "      <td>6433.929688</td>\n",
       "      <td>43986977000</td>\n",
       "    </tr>\n",
       "    <tr>\n",
       "      <th>12147</th>\n",
       "      <td>9407001600</td>\n",
       "      <td>20150423T000000</td>\n",
       "      <td>305000.0</td>\n",
       "      <td>3</td>\n",
       "      <td>1.75</td>\n",
       "      <td>1660</td>\n",
       "      <td>11500</td>\n",
       "      <td>1.0</td>\n",
       "      <td>0</td>\n",
       "      <td>0</td>\n",
       "      <td>...</td>\n",
       "      <td>-121.774</td>\n",
       "      <td>1250</td>\n",
       "      <td>11000</td>\n",
       "      <td>9</td>\n",
       "      <td>5.25</td>\n",
       "      <td>7.414573</td>\n",
       "      <td>-74.3267</td>\n",
       "      <td>81</td>\n",
       "      <td>50.265076</td>\n",
       "      <td>4574296000</td>\n",
       "    </tr>\n",
       "    <tr>\n",
       "      <th>15145</th>\n",
       "      <td>8712100020</td>\n",
       "      <td>20150127T000000</td>\n",
       "      <td>600000.0</td>\n",
       "      <td>2</td>\n",
       "      <td>1.00</td>\n",
       "      <td>1290</td>\n",
       "      <td>4636</td>\n",
       "      <td>1.0</td>\n",
       "      <td>0</td>\n",
       "      <td>0</td>\n",
       "      <td>...</td>\n",
       "      <td>-122.301</td>\n",
       "      <td>1940</td>\n",
       "      <td>4635</td>\n",
       "      <td>4</td>\n",
       "      <td>2.00</td>\n",
       "      <td>7.162397</td>\n",
       "      <td>-74.6617</td>\n",
       "      <td>16</td>\n",
       "      <td>1.000000</td>\n",
       "      <td>2146689000</td>\n",
       "    </tr>\n",
       "  </tbody>\n",
       "</table>\n",
       "<p>5 rows × 28 columns</p>\n",
       "</div>"
      ],
      "text/plain": [
       "               id             date      price  bedrooms  bathrooms  \\\n",
       "10033  4440400125  20140508T000000   228000.0         4       1.75   \n",
       "20870  3575305485  20140829T000000   409000.0         3       2.50   \n",
       "21323  9402800005  20141028T000000  1500000.0         3       3.50   \n",
       "12147  9407001600  20150423T000000   305000.0         3       1.75   \n",
       "15145  8712100020  20150127T000000   600000.0         2       1.00   \n",
       "\n",
       "       sqft_living  sqft_lot  floors  waterfront  view     ...          long  \\\n",
       "10033         2000      6120     1.0           0     0     ...      -122.258   \n",
       "20870         1890      6500     2.0           0     0     ...      -122.058   \n",
       "21323         3530      3610     2.0           0     0     ...      -122.339   \n",
       "12147         1660     11500     1.0           0     0     ...      -121.774   \n",
       "15145         1290      4636     1.0           0     0     ...      -122.301   \n",
       "\n",
       "       sqft_living15  sqft_lot15  bedrooms_squared  bed_bath_rooms  \\\n",
       "10033           1880        6120                16            7.00   \n",
       "20870           2340        7500                 9            7.50   \n",
       "21323           1780        3610                 9           10.50   \n",
       "12147           1250       11000                 9            5.25   \n",
       "15145           1940        4635                 4            2.00   \n",
       "\n",
       "       log_sqft_living  lat_plus_long  bedrooms_4  bathrooms_7       size_3  \n",
       "10033         7.600902       -74.7545         256    50.265076   8000000000  \n",
       "20870         7.544332       -74.4355          81   610.351562   6751269000  \n",
       "21323         8.169053       -74.6533          81  6433.929688  43986977000  \n",
       "12147         7.414573       -74.3267          81    50.265076   4574296000  \n",
       "15145         7.162397       -74.6617          16     1.000000   2146689000  \n",
       "\n",
       "[5 rows x 28 columns]"
      ]
     },
     "execution_count": 49,
     "metadata": {},
     "output_type": "execute_result"
    }
   ],
   "source": [
    "# test_data = pd.read_csv('kc_house_test_data.csv', dtype=dtype_dict)\n",
    "test_data.head()"
   ]
  },
  {
   "cell_type": "code",
   "execution_count": 50,
   "metadata": {
    "colab": {
     "base_uri": "https://localhost:8080/",
     "height": 34
    },
    "colab_type": "code",
    "executionInfo": {
     "elapsed": 654,
     "status": "ok",
     "timestamp": 1549152195551,
     "user": {
      "displayName": "Venkatesh Tadinada",
      "photoUrl": "",
      "userId": "11340529044771548550"
     },
     "user_tz": 480
    },
    "id": "YB_lsew6SO7Z",
    "outputId": "5ec81c74-1a5f-43de-936b-8af9d4d6cbab"
   },
   "outputs": [
    {
     "data": {
      "text/plain": [
       "(6484, 28)"
      ]
     },
     "execution_count": 50,
     "metadata": {},
     "output_type": "execute_result"
    }
   ],
   "source": [
    "test_data.shape"
   ]
  },
  {
   "cell_type": "markdown",
   "metadata": {
    "colab_type": "text",
    "id": "356cVRNCSO7b"
   },
   "source": [
    "In this case the testing set will be the 30% (therefore the training set is 70% of the original data)"
   ]
  },
  {
   "cell_type": "code",
   "execution_count": 51,
   "metadata": {
    "colab": {},
    "colab_type": "code",
    "id": "Z4vsnHQ9SO7c"
   },
   "outputs": [],
   "source": [
    "train_y = train_data.price # extract the price column\n",
    "test_y = test_data.price"
   ]
  },
  {
   "cell_type": "markdown",
   "metadata": {
    "colab_type": "text",
    "id": "lCeYc5NuSO7c"
   },
   "source": [
    "Retrain the models on training data only:"
   ]
  },
  {
   "cell_type": "code",
   "execution_count": 52,
   "metadata": {
    "colab": {
     "base_uri": "https://localhost:8080/",
     "height": 50
    },
    "colab_type": "code",
    "executionInfo": {
     "elapsed": 621,
     "status": "ok",
     "timestamp": 1549152202368,
     "user": {
      "displayName": "Venkatesh Tadinada",
      "photoUrl": "",
      "userId": "11340529044771548550"
     },
     "user_tz": 480
    },
    "id": "yVn_MAUoSO7e",
    "outputId": "e286b404-c5e2-478a-aecc-75ef545ab3e3"
   },
   "outputs": [
    {
     "data": {
      "text/plain": [
       "LinearRegression(copy_X=True, fit_intercept=True, n_jobs=None,\n",
       "         normalize=False)"
      ]
     },
     "execution_count": 52,
     "metadata": {},
     "output_type": "execute_result"
    }
   ],
   "source": [
    "model_1.fit(train_data[model_1_features], train_y)"
   ]
  },
  {
   "cell_type": "code",
   "execution_count": 53,
   "metadata": {
    "colab": {
     "base_uri": "https://localhost:8080/",
     "height": 50
    },
    "colab_type": "code",
    "executionInfo": {
     "elapsed": 518,
     "status": "ok",
     "timestamp": 1549152208132,
     "user": {
      "displayName": "Venkatesh Tadinada",
      "photoUrl": "",
      "userId": "11340529044771548550"
     },
     "user_tz": 480
    },
    "id": "DOsuhpuvSO7g",
    "outputId": "af7e84a2-c745-4e7c-d161-83c3ad0379f9"
   },
   "outputs": [
    {
     "data": {
      "text/plain": [
       "LinearRegression(copy_X=True, fit_intercept=True, n_jobs=None,\n",
       "         normalize=False)"
      ]
     },
     "execution_count": 53,
     "metadata": {},
     "output_type": "execute_result"
    }
   ],
   "source": [
    "model_2.fit(train_data[model_2_features], train_y)"
   ]
  },
  {
   "cell_type": "code",
   "execution_count": 54,
   "metadata": {
    "colab": {
     "base_uri": "https://localhost:8080/",
     "height": 50
    },
    "colab_type": "code",
    "executionInfo": {
     "elapsed": 381,
     "status": "ok",
     "timestamp": 1549152209709,
     "user": {
      "displayName": "Venkatesh Tadinada",
      "photoUrl": "",
      "userId": "11340529044771548550"
     },
     "user_tz": 480
    },
    "id": "8zyWSPY1SO7i",
    "outputId": "30acfa50-a7ea-4853-b518-a984933e06c0"
   },
   "outputs": [
    {
     "data": {
      "text/plain": [
       "LinearRegression(copy_X=True, fit_intercept=True, n_jobs=None,\n",
       "         normalize=False)"
      ]
     },
     "execution_count": 54,
     "metadata": {},
     "output_type": "execute_result"
    }
   ],
   "source": [
    "model_3.fit(train_data[model_3_features], train_y)"
   ]
  },
  {
   "cell_type": "code",
   "execution_count": 55,
   "metadata": {
    "colab": {
     "base_uri": "https://localhost:8080/",
     "height": 50
    },
    "colab_type": "code",
    "executionInfo": {
     "elapsed": 202,
     "status": "ok",
     "timestamp": 1549152210984,
     "user": {
      "displayName": "Venkatesh Tadinada",
      "photoUrl": "",
      "userId": "11340529044771548550"
     },
     "user_tz": 480
    },
    "id": "nyfthJnbSO7k",
    "outputId": "d9842fe9-a949-4d86-a525-ec1613d4a8d9"
   },
   "outputs": [
    {
     "data": {
      "text/plain": [
       "LinearRegression(copy_X=True, fit_intercept=True, n_jobs=None,\n",
       "         normalize=False)"
      ]
     },
     "execution_count": 55,
     "metadata": {},
     "output_type": "execute_result"
    }
   ],
   "source": [
    "model_4.fit(train_data[model_4_features], train_y)"
   ]
  },
  {
   "cell_type": "code",
   "execution_count": 56,
   "metadata": {
    "colab": {
     "base_uri": "https://localhost:8080/",
     "height": 50
    },
    "colab_type": "code",
    "executionInfo": {
     "elapsed": 614,
     "status": "ok",
     "timestamp": 1549152213372,
     "user": {
      "displayName": "Venkatesh Tadinada",
      "photoUrl": "",
      "userId": "11340529044771548550"
     },
     "user_tz": 480
    },
    "id": "5qHuN8ZsSO7m",
    "outputId": "eb2869e2-2e79-4c3c-f423-cf4162926c6a"
   },
   "outputs": [
    {
     "data": {
      "text/plain": [
       "LinearRegression(copy_X=True, fit_intercept=True, n_jobs=None,\n",
       "         normalize=False)"
      ]
     },
     "execution_count": 56,
     "metadata": {},
     "output_type": "execute_result"
    }
   ],
   "source": [
    "model_5.fit(train_data[model_5_features], train_y)"
   ]
  },
  {
   "cell_type": "code",
   "execution_count": 57,
   "metadata": {
    "colab": {
     "base_uri": "https://localhost:8080/",
     "height": 101
    },
    "colab_type": "code",
    "executionInfo": {
     "elapsed": 789,
     "status": "ok",
     "timestamp": 1549152217044,
     "user": {
      "displayName": "Venkatesh Tadinada",
      "photoUrl": "",
      "userId": "11340529044771548550"
     },
     "user_tz": 480
    },
    "id": "ByZViSwcSO7n",
    "outputId": "4d0f3be2-c680-40b7-b6bf-e62397421b99"
   },
   "outputs": [
    {
     "name": "stdout",
     "output_type": "stream",
     "text": [
      "238423.73623346974\n",
      "228417.37486543707\n",
      "228417.3748654373\n",
      "226068.48002941316\n",
      "222660.59332007836\n"
     ]
    }
   ],
   "source": [
    "# Compute the RSS on TRAINING data for each of the models\n",
    "print (get_loss(model_1.predict(train_data[model_1_features]), train_y))\n",
    "print (get_loss(model_2.predict(train_data[model_2_features]), train_y))\n",
    "print (get_loss(model_3.predict(train_data[model_3_features]), train_y))\n",
    "print (get_loss(model_4.predict(train_data[model_4_features]), train_y))\n",
    "print (get_loss(model_5.predict(train_data[model_5_features]), train_y))"
   ]
  },
  {
   "cell_type": "markdown",
   "metadata": {
    "colab_type": "text",
    "id": "srsssm0ISO7q"
   },
   "source": [
    "Now compute the RSS on TEST data for each of the models."
   ]
  },
  {
   "cell_type": "code",
   "execution_count": 58,
   "metadata": {
    "colab": {
     "base_uri": "https://localhost:8080/",
     "height": 101
    },
    "colab_type": "code",
    "executionInfo": {
     "elapsed": 581,
     "status": "ok",
     "timestamp": 1549152229313,
     "user": {
      "displayName": "Venkatesh Tadinada",
      "photoUrl": "",
      "userId": "11340529044771548550"
     },
     "user_tz": 480
    },
    "id": "ASnEiyNkSO7r",
    "outputId": "e6358f0b-671d-4ad5-c74a-8092a6bd4eee"
   },
   "outputs": [
    {
     "name": "stdout",
     "output_type": "stream",
     "text": [
      "226857.32965286236\n",
      "226001.99527230184\n",
      "226001.99527230565\n",
      "232069.83536944428\n",
      "250224.65391678546\n"
     ]
    }
   ],
   "source": [
    "# Compute the RSS on TESTING data for each of the three models and record the values:\n",
    "print (get_loss(model_1.predict(test_data[model_1_features]), test_y))\n",
    "print (get_loss(model_2.predict(test_data[model_2_features]), test_y))\n",
    "print (get_loss(model_3.predict(test_data[model_3_features]), test_y))\n",
    "print (get_loss(model_4.predict(test_data[model_4_features]), test_y))\n",
    "print (get_loss(model_5.predict(test_data[model_5_features]), test_y))"
   ]
  },
  {
   "cell_type": "markdown",
   "metadata": {
    "colab_type": "text",
    "collapsed": true,
    "id": "4DY1jdi2SO7u"
   },
   "source": [
    "The most complex model has the lowest error on the training data, but since that model has a non-sensical feature, it performs less well on the test data."
   ]
  },
  {
   "cell_type": "markdown",
   "metadata": {
    "colab_type": "text",
    "collapsed": true,
    "id": "TDV3NOfWSO7v"
   },
   "source": [
    "![Training error vs. model complexity](../images/models.png)"
   ]
  },
  {
   "cell_type": "code",
   "execution_count": null,
   "metadata": {},
   "outputs": [],
   "source": []
  }
 ],
 "metadata": {
  "colab": {
   "collapsed_sections": [
    "d8bzsVOFSO5R",
    "uN6c73uVSO53",
    "rk2XyD74SO64",
    "1C4QlmLxSO7M",
    "TxshXTeZSO7Q",
    "JQA7UwVrSO7S",
    "rSSFI0jbSO7w"
   ],
   "name": "house price 02.ipynb",
   "provenance": [],
   "version": "0.3.2"
  },
  "kernelspec": {
   "display_name": "Python 3",
   "language": "python",
   "name": "python3"
  },
  "language_info": {
   "codemirror_mode": {
    "name": "ipython",
    "version": 3
   },
   "file_extension": ".py",
   "mimetype": "text/x-python",
   "name": "python",
   "nbconvert_exporter": "python",
   "pygments_lexer": "ipython3",
   "version": "3.6.5"
  }
 },
 "nbformat": 4,
 "nbformat_minor": 1
}
