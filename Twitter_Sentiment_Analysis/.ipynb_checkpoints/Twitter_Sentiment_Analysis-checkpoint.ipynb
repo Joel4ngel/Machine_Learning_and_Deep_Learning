{
 "cells": [
  {
   "cell_type": "markdown",
   "metadata": {
    "colab_type": "text",
    "id": "NdBt4a2wcyaR"
   },
   "source": [
    "# Twitter Sentiment Analysis"
   ]
  },
  {
   "cell_type": "markdown",
   "metadata": {
    "colab_type": "text",
    "id": "tzm0SgHAcyaV"
   },
   "source": [
    "# 01 :Frame the Problem"
   ]
  },
  {
   "cell_type": "markdown",
   "metadata": {
    "colab_type": "text",
    "id": "41zBgXJlcyaV"
   },
   "source": [
    "#### Problem Statement Link :  https://datahack.analyticsvidhya.com/contest/practice-problem-twitter-sentiment-analysis/"
   ]
  },
  {
   "cell_type": "markdown",
   "metadata": {
    "colab_type": "text",
    "id": "ET4Fn8TJcyaX"
   },
   "source": [
    "# 02 :Obtain Data"
   ]
  },
  {
   "cell_type": "markdown",
   "metadata": {
    "colab_type": "text",
    "id": "ARmL3nlKcyaX"
   },
   "source": [
    "### Import Statements"
   ]
  },
  {
   "cell_type": "code",
   "execution_count": 1,
   "metadata": {
    "colab": {
     "base_uri": "https://localhost:8080/",
     "height": 34
    },
    "colab_type": "code",
    "executionInfo": {
     "elapsed": 8380,
     "status": "ok",
     "timestamp": 1542341874123,
     "user": {
      "displayName": "Venkatesh Tadinada",
      "photoUrl": "",
      "userId": "11340529044771548550"
     },
     "user_tz": 480
    },
    "id": "zEo9ffljNNcv",
    "outputId": "699cd034-cb53-4022-f869-230632c33378"
   },
   "outputs": [
    {
     "name": "stdout",
     "output_type": "stream",
     "text": [
      "/Users/marleneprado/Documents/2019/COURSES/Github/Machine_Learning/Twitter_Sentiment_Analysis/twitter\n"
     ]
    }
   ],
   "source": [
    "!mkdir twitter\n",
    "%cd twitter\n",
    "!ls\n"
   ]
  },
  {
   "cell_type": "code",
   "execution_count": null,
   "metadata": {
    "colab": {
     "base_uri": "https://localhost:8080/",
     "height": 194
    },
    "colab_type": "code",
    "executionInfo": {
     "elapsed": 5844,
     "status": "ok",
     "timestamp": 1542341882508,
     "user": {
      "displayName": "Venkatesh Tadinada",
      "photoUrl": "",
      "userId": "11340529044771548550"
     },
     "user_tz": 480
    },
    "id": "mdHSpUOdcyaY",
    "outputId": "6d92c53c-5374-4206-f84b-7bd57d289bcb"
   },
   "outputs": [
    {
     "name": "stdout",
     "output_type": "stream",
     "text": [
      "\u001b[33mDEPRECATION: Python 2.7 will reach the end of its life on January 1st, 2020. Please upgrade your Python as Python 2.7 won't be maintained after that date. A future version of pip will drop support for Python 2.7.\u001b[0m\n",
      "Collecting missingno\n",
      "  Downloading https://files.pythonhosted.org/packages/ef/72/845e1ca9e905a998cb019f4d0f4e1d2e9f021ec9b19c46f39af23ab1cf3d/missingno-0.4.1.tar.gz\n",
      "Requirement already satisfied: numpy in /System/Library/Frameworks/Python.framework/Versions/2.7/Extras/lib/python (from missingno) (1.8.0rc1)\n",
      "Requirement already satisfied: matplotlib in /System/Library/Frameworks/Python.framework/Versions/2.7/Extras/lib/python (from missingno) (1.3.1)\n",
      "Requirement already satisfied: scipy in /System/Library/Frameworks/Python.framework/Versions/2.7/Extras/lib/python (from missingno) (0.13.0b1)\n",
      "Collecting seaborn (from missingno)\n",
      "\u001b[?25l  Downloading https://files.pythonhosted.org/packages/7a/bf/04cfcfc9616cedd4b5dd24dfc40395965ea9f50c1db0d3f3e52b050f74a5/seaborn-0.9.0.tar.gz (198kB)\n",
      "\u001b[K    100% |████████████████████████████████| 204kB 144kB/s ta 0:00:01\n",
      "\u001b[?25hRequirement already satisfied: python-dateutil in /System/Library/Frameworks/Python.framework/Versions/2.7/Extras/lib/python (from matplotlib->missingno) (1.5)\n",
      "Collecting tornado (from matplotlib->missingno)\n",
      "\u001b[?25l  Downloading https://files.pythonhosted.org/packages/e6/78/6e7b5af12c12bdf38ca9bfe863fcaf53dc10430a312d0324e76c1e5ca426/tornado-5.1.1.tar.gz (516kB)\n",
      "\u001b[K    100% |████████████████████████████████| 522kB 285kB/s ta 0:00:01\n",
      "\u001b[?25hRequirement already satisfied: pyparsing>=1.5.6 in /System/Library/Frameworks/Python.framework/Versions/2.7/Extras/lib/python (from matplotlib->missingno) (2.0.1)\n",
      "Collecting nose (from matplotlib->missingno)\n",
      "\u001b[?25l  Downloading https://files.pythonhosted.org/packages/99/4f/13fb671119e65c4dce97c60e67d3fd9e6f7f809f2b307e2611f4701205cb/nose-1.3.7-py2-none-any.whl (154kB)\n",
      "\u001b[K    100% |████████████████████████████████| 163kB 72kB/s ta 0:00:011\n",
      "\u001b[?25hCollecting pandas>=0.15.2 (from seaborn->missingno)\n",
      "\u001b[?25l  Downloading https://files.pythonhosted.org/packages/bf/0b/e580fd802a4d6204728af4fbf1cf8b20765812deab58454a8c7158221f1e/pandas-0.24.1-cp27-cp27m-macosx_10_6_intel.macosx_10_9_intel.macosx_10_9_x86_64.macosx_10_10_intel.macosx_10_10_x86_64.whl (16.7MB)\n",
      "\u001b[K    9% |███                             | 1.6MB 108kB/s eta 0:02:20"
     ]
    }
   ],
   "source": [
    "!pip install missingno\n",
    "import numpy as np\n",
    "import pandas as pd\n",
    "import seaborn as sns\n",
    "import matplotlib.pyplot as plt\n",
    "import missingno as ms\n",
    "% matplotlib inline\n",
    "\n",
    "\n"
   ]
  },
  {
   "cell_type": "markdown",
   "metadata": {
    "colab_type": "text",
    "id": "zmylpZZccyae"
   },
   "source": [
    "### Reading the Train Data"
   ]
  },
  {
   "cell_type": "code",
   "execution_count": 3,
   "metadata": {
    "colab": {
     "base_uri": "https://localhost:8080/",
     "height": 392
    },
    "colab_type": "code",
    "executionInfo": {
     "elapsed": 5721,
     "status": "ok",
     "timestamp": 1542341890925,
     "user": {
      "displayName": "Venkatesh Tadinada",
      "photoUrl": "",
      "userId": "11340529044771548550"
     },
     "user_tz": 480
    },
    "id": "B7Hy1OdMeogC",
    "outputId": "6fb43049-662b-4d78-ca15-489fdee11faa"
   },
   "outputs": [
    {
     "name": "stdout",
     "output_type": "stream",
     "text": [
      "--2018-11-16 04:18:10--  https://www.dropbox.com/s/p8fq1p6wan2g89a/train.csv\n",
      "Resolving www.dropbox.com (www.dropbox.com)... 162.125.8.1, 2620:100:6016:1::a27d:101\n",
      "Connecting to www.dropbox.com (www.dropbox.com)|162.125.8.1|:443... connected.\n",
      "HTTP request sent, awaiting response... 301 Moved Permanently\n",
      "Location: /s/raw/p8fq1p6wan2g89a/train.csv [following]\n",
      "--2018-11-16 04:18:10--  https://www.dropbox.com/s/raw/p8fq1p6wan2g89a/train.csv\n",
      "Reusing existing connection to www.dropbox.com:443.\n",
      "HTTP request sent, awaiting response... 302 Found\n",
      "Location: https://uce0e3c2eee69588c981aedb94e5.dl.dropboxusercontent.com/cd/0/inline/AVo2zgTNoktdw8nzkt8139w-JwgiLZR-7Zf2KysRnIA0AsojyQGdZN4ShBzFR-2JL0HHvLrfgJlD-CMwWmMIigRZ1MfCqUog0aYcO_t70yzCjTA7_0S6fGxSjEWDS6qp8xYDMolnsJVPez7C5zIOGsr-GAOtp03qiu-PqOIco-70MIZSJHFUMXf5YBMr4W5VDng/file [following]\n",
      "--2018-11-16 04:18:11--  https://uce0e3c2eee69588c981aedb94e5.dl.dropboxusercontent.com/cd/0/inline/AVo2zgTNoktdw8nzkt8139w-JwgiLZR-7Zf2KysRnIA0AsojyQGdZN4ShBzFR-2JL0HHvLrfgJlD-CMwWmMIigRZ1MfCqUog0aYcO_t70yzCjTA7_0S6fGxSjEWDS6qp8xYDMolnsJVPez7C5zIOGsr-GAOtp03qiu-PqOIco-70MIZSJHFUMXf5YBMr4W5VDng/file\n",
      "Resolving uce0e3c2eee69588c981aedb94e5.dl.dropboxusercontent.com (uce0e3c2eee69588c981aedb94e5.dl.dropboxusercontent.com)... 162.125.1.6, 2620:100:6016:6::a27d:106\n",
      "Connecting to uce0e3c2eee69588c981aedb94e5.dl.dropboxusercontent.com (uce0e3c2eee69588c981aedb94e5.dl.dropboxusercontent.com)|162.125.1.6|:443... connected.\n",
      "HTTP request sent, awaiting response... 200 OK\n",
      "Length: 3103165 (3.0M) [text/plain]\n",
      "Saving to: ‘train.csv’\n",
      "\n",
      "\r",
      "train.csv             0%[                    ]       0  --.-KB/s               \r",
      "train.csv           100%[===================>]   2.96M  15.8MB/s    in 0.2s    \n",
      "\n",
      "2018-11-16 04:18:11 (15.8 MB/s) - ‘train.csv’ saved [3103165/3103165]\n",
      "\n"
     ]
    }
   ],
   "source": [
    "!wget https://www.dropbox.com/s/p8fq1p6wan2g89a/train.csv "
   ]
  },
  {
   "cell_type": "code",
   "execution_count": 4,
   "metadata": {
    "colab": {
     "base_uri": "https://localhost:8080/",
     "height": 52
    },
    "colab_type": "code",
    "executionInfo": {
     "elapsed": 4629,
     "status": "ok",
     "timestamp": 1542341928842,
     "user": {
      "displayName": "Venkatesh Tadinada",
      "photoUrl": "",
      "userId": "11340529044771548550"
     },
     "user_tz": 480
    },
    "id": "qwf7LwGJxFzt",
    "outputId": "9d002825-d42e-4307-eb94-31372067c610"
   },
   "outputs": [
    {
     "name": "stdout",
     "output_type": "stream",
     "text": [
      "total 3036\n",
      "-rw-r--r-- 1 root root 3103165 Nov 16 04:18 train.csv\n"
     ]
    }
   ],
   "source": [
    "!ls -l"
   ]
  },
  {
   "cell_type": "code",
   "execution_count": 5,
   "metadata": {
    "colab": {
     "base_uri": "https://localhost:8080/",
     "height": 158
    },
    "colab_type": "code",
    "executionInfo": {
     "elapsed": 1852,
     "status": "ok",
     "timestamp": 1542341931781,
     "user": {
      "displayName": "Venkatesh Tadinada",
      "photoUrl": "",
      "userId": "11340529044771548550"
     },
     "user_tz": 480
    },
    "id": "W7e7VXv1cyag",
    "outputId": "c7f2a26c-7529-4496-b0f7-34c3204b919d"
   },
   "outputs": [
    {
     "name": "stdout",
     "output_type": "stream",
     "text": [
      "<class 'pandas.core.frame.DataFrame'>\n",
      "RangeIndex: 31962 entries, 0 to 31961\n",
      "Data columns (total 3 columns):\n",
      "id       31962 non-null int64\n",
      "label    31962 non-null int64\n",
      "tweet    31962 non-null object\n",
      "dtypes: int64(2), object(1)\n",
      "memory usage: 749.2+ KB\n"
     ]
    }
   ],
   "source": [
    "train = pd.read_csv('train.csv')\n",
    "train.info()"
   ]
  },
  {
   "cell_type": "markdown",
   "metadata": {
    "colab_type": "text",
    "id": "CbdkRYxrcyak"
   },
   "source": [
    "# 03 : Analyze Data"
   ]
  },
  {
   "cell_type": "code",
   "execution_count": 8,
   "metadata": {
    "colab": {
     "base_uri": "https://localhost:8080/",
     "height": 647
    },
    "colab_type": "code",
    "executionInfo": {
     "elapsed": 2825,
     "status": "ok",
     "timestamp": 1542342316531,
     "user": {
      "displayName": "Venkatesh Tadinada",
      "photoUrl": "",
      "userId": "11340529044771548550"
     },
     "user_tz": 480
    },
    "id": "QT2EJjDlcyal",
    "outputId": "6a99b536-4dc6-40b3-9639-424a65e7426c"
   },
   "outputs": [
    {
     "data": {
      "text/html": [
       "<div>\n",
       "<style scoped>\n",
       "    .dataframe tbody tr th:only-of-type {\n",
       "        vertical-align: middle;\n",
       "    }\n",
       "\n",
       "    .dataframe tbody tr th {\n",
       "        vertical-align: top;\n",
       "    }\n",
       "\n",
       "    .dataframe thead th {\n",
       "        text-align: right;\n",
       "    }\n",
       "</style>\n",
       "<table border=\"1\" class=\"dataframe\">\n",
       "  <thead>\n",
       "    <tr style=\"text-align: right;\">\n",
       "      <th></th>\n",
       "      <th>id</th>\n",
       "      <th>label</th>\n",
       "      <th>tweet</th>\n",
       "    </tr>\n",
       "  </thead>\n",
       "  <tbody>\n",
       "    <tr>\n",
       "      <th>0</th>\n",
       "      <td>1</td>\n",
       "      <td>0</td>\n",
       "      <td>@user when a father is dysfunctional and is s...</td>\n",
       "    </tr>\n",
       "    <tr>\n",
       "      <th>1</th>\n",
       "      <td>2</td>\n",
       "      <td>0</td>\n",
       "      <td>@user @user thanks for #lyft credit i can't us...</td>\n",
       "    </tr>\n",
       "    <tr>\n",
       "      <th>2</th>\n",
       "      <td>3</td>\n",
       "      <td>0</td>\n",
       "      <td>bihday your majesty</td>\n",
       "    </tr>\n",
       "    <tr>\n",
       "      <th>3</th>\n",
       "      <td>4</td>\n",
       "      <td>0</td>\n",
       "      <td>#model   i love u take with u all the time in ...</td>\n",
       "    </tr>\n",
       "    <tr>\n",
       "      <th>4</th>\n",
       "      <td>5</td>\n",
       "      <td>0</td>\n",
       "      <td>factsguide: society now    #motivation</td>\n",
       "    </tr>\n",
       "    <tr>\n",
       "      <th>5</th>\n",
       "      <td>6</td>\n",
       "      <td>0</td>\n",
       "      <td>[2/2] huge fan fare and big talking before the...</td>\n",
       "    </tr>\n",
       "    <tr>\n",
       "      <th>6</th>\n",
       "      <td>7</td>\n",
       "      <td>0</td>\n",
       "      <td>@user camping tomorrow @user @user @user @use...</td>\n",
       "    </tr>\n",
       "    <tr>\n",
       "      <th>7</th>\n",
       "      <td>8</td>\n",
       "      <td>0</td>\n",
       "      <td>the next school year is the year for exams.ð...</td>\n",
       "    </tr>\n",
       "    <tr>\n",
       "      <th>8</th>\n",
       "      <td>9</td>\n",
       "      <td>0</td>\n",
       "      <td>we won!!! love the land!!! #allin #cavs #champ...</td>\n",
       "    </tr>\n",
       "    <tr>\n",
       "      <th>9</th>\n",
       "      <td>10</td>\n",
       "      <td>0</td>\n",
       "      <td>@user @user welcome here !  i'm   it's so #gr...</td>\n",
       "    </tr>\n",
       "    <tr>\n",
       "      <th>10</th>\n",
       "      <td>11</td>\n",
       "      <td>0</td>\n",
       "      <td>â #ireland consumer price index (mom) climb...</td>\n",
       "    </tr>\n",
       "    <tr>\n",
       "      <th>11</th>\n",
       "      <td>12</td>\n",
       "      <td>0</td>\n",
       "      <td>we are so selfish. #orlando #standwithorlando ...</td>\n",
       "    </tr>\n",
       "    <tr>\n",
       "      <th>12</th>\n",
       "      <td>13</td>\n",
       "      <td>0</td>\n",
       "      <td>i get to see my daddy today!!   #80days #getti...</td>\n",
       "    </tr>\n",
       "    <tr>\n",
       "      <th>13</th>\n",
       "      <td>14</td>\n",
       "      <td>1</td>\n",
       "      <td>@user #cnn calls #michigan middle school 'buil...</td>\n",
       "    </tr>\n",
       "    <tr>\n",
       "      <th>14</th>\n",
       "      <td>15</td>\n",
       "      <td>1</td>\n",
       "      <td>no comment!  in #australia   #opkillingbay #se...</td>\n",
       "    </tr>\n",
       "    <tr>\n",
       "      <th>15</th>\n",
       "      <td>16</td>\n",
       "      <td>0</td>\n",
       "      <td>ouch...junior is angryð#got7 #junior #yugyo...</td>\n",
       "    </tr>\n",
       "    <tr>\n",
       "      <th>16</th>\n",
       "      <td>17</td>\n",
       "      <td>0</td>\n",
       "      <td>i am thankful for having a paner. #thankful #p...</td>\n",
       "    </tr>\n",
       "    <tr>\n",
       "      <th>17</th>\n",
       "      <td>18</td>\n",
       "      <td>1</td>\n",
       "      <td>retweet if you agree!</td>\n",
       "    </tr>\n",
       "    <tr>\n",
       "      <th>18</th>\n",
       "      <td>19</td>\n",
       "      <td>0</td>\n",
       "      <td>its #friday! ð smiles all around via ig use...</td>\n",
       "    </tr>\n",
       "    <tr>\n",
       "      <th>19</th>\n",
       "      <td>20</td>\n",
       "      <td>0</td>\n",
       "      <td>as we all know, essential oils are not made of...</td>\n",
       "    </tr>\n",
       "  </tbody>\n",
       "</table>\n",
       "</div>"
      ],
      "text/plain": [
       "    id  label                                              tweet\n",
       "0    1      0   @user when a father is dysfunctional and is s...\n",
       "1    2      0  @user @user thanks for #lyft credit i can't us...\n",
       "2    3      0                                bihday your majesty\n",
       "3    4      0  #model   i love u take with u all the time in ...\n",
       "4    5      0             factsguide: society now    #motivation\n",
       "5    6      0  [2/2] huge fan fare and big talking before the...\n",
       "6    7      0   @user camping tomorrow @user @user @user @use...\n",
       "7    8      0  the next school year is the year for exams.ð...\n",
       "8    9      0  we won!!! love the land!!! #allin #cavs #champ...\n",
       "9   10      0   @user @user welcome here !  i'm   it's so #gr...\n",
       "10  11      0   â #ireland consumer price index (mom) climb...\n",
       "11  12      0  we are so selfish. #orlando #standwithorlando ...\n",
       "12  13      0  i get to see my daddy today!!   #80days #getti...\n",
       "13  14      1  @user #cnn calls #michigan middle school 'buil...\n",
       "14  15      1  no comment!  in #australia   #opkillingbay #se...\n",
       "15  16      0  ouch...junior is angryð#got7 #junior #yugyo...\n",
       "16  17      0  i am thankful for having a paner. #thankful #p...\n",
       "17  18      1                             retweet if you agree! \n",
       "18  19      0  its #friday! ð smiles all around via ig use...\n",
       "19  20      0  as we all know, essential oils are not made of..."
      ]
     },
     "execution_count": 8,
     "metadata": {
      "tags": []
     },
     "output_type": "execute_result"
    }
   ],
   "source": [
    "train.head(20)"
   ]
  },
  {
   "cell_type": "code",
   "execution_count": 7,
   "metadata": {
    "colab": {
     "base_uri": "https://localhost:8080/",
     "height": 70
    },
    "colab_type": "code",
    "executionInfo": {
     "elapsed": 1715,
     "status": "ok",
     "timestamp": 1542342020891,
     "user": {
      "displayName": "Venkatesh Tadinada",
      "photoUrl": "",
      "userId": "11340529044771548550"
     },
     "user_tz": 480
    },
    "id": "xcU0_jJCcyap",
    "outputId": "10224e42-c5a0-458f-8fe4-e349049ce769"
   },
   "outputs": [
    {
     "data": {
      "text/plain": [
       "0    29720\n",
       "1     2242\n",
       "Name: label, dtype: int64"
      ]
     },
     "execution_count": 7,
     "metadata": {
      "tags": []
     },
     "output_type": "execute_result"
    }
   ],
   "source": [
    "train['label'].value_counts()"
   ]
  },
  {
   "cell_type": "code",
   "execution_count": 0,
   "metadata": {
    "colab": {},
    "colab_type": "code",
    "id": "JRB-IlTWcyau"
   },
   "outputs": [],
   "source": [
    "train[train['label']==1]['tweet'].head()"
   ]
  },
  {
   "cell_type": "markdown",
   "metadata": {
    "colab_type": "text",
    "id": "cyoEN8kNcyax"
   },
   "source": [
    "## Label types\n",
    "-   0 : Normal\n",
    "-   1 : Hate"
   ]
  },
  {
   "cell_type": "markdown",
   "metadata": {
    "colab_type": "text",
    "id": "LxscakkRcyaz"
   },
   "source": [
    "# 05 : Model Selection ( 1st Iteration)"
   ]
  },
  {
   "cell_type": "markdown",
   "metadata": {
    "colab_type": "text",
    "id": "ZO14sZhrcya3"
   },
   "source": [
    "## RandomForest without Preprocessing of Text Data"
   ]
  },
  {
   "cell_type": "code",
   "execution_count": 0,
   "metadata": {
    "colab": {},
    "colab_type": "code",
    "id": "c6cW-MYEcya5"
   },
   "outputs": [],
   "source": [
    "#Building the model without preprocessing of data\n",
    "unprocessed_data = pd.read_csv('train.csv')"
   ]
  },
  {
   "cell_type": "code",
   "execution_count": 0,
   "metadata": {
    "colab": {},
    "colab_type": "code",
    "id": "sWIpAIwkcya_"
   },
   "outputs": [],
   "source": [
    "from sklearn.model_selection import train_test_split\n",
    "\n",
    "\n",
    "#splitting the data into random train and test subsets\n",
    "X_train, X_test, y_train, y_test = train_test_split(unprocessed_data[\"tweet\"],\n",
    "                                                        unprocessed_data[\"label\"], \n",
    "                                                    test_size = 0.2, random_state = 42)"
   ]
  },
  {
   "cell_type": "code",
   "execution_count": 0,
   "metadata": {
    "colab": {},
    "colab_type": "code",
    "id": "OKlor2vwcybC"
   },
   "outputs": [],
   "source": [
    "# Sequentialization of tasks\n",
    "from sklearn.pipeline import Pipeline\n",
    "\n",
    "#generating ngrams and tokens and Bagging\n",
    "from sklearn.feature_extraction.text import CountVectorizer, TfidfTransformer, TfidfVectorizer\n",
    "\n",
    "from sklearn.ensemble import RandomForestClassifier\n",
    "\n",
    "text_clf = Pipeline([('vect', CountVectorizer(stop_words='english')),\n",
    "                      ('tfidf', TfidfTransformer()),\n",
    "                     ('clf', RandomForestClassifier(n_estimators=50)),])"
   ]
  },
  {
   "cell_type": "code",
   "execution_count": 0,
   "metadata": {
    "colab": {},
    "colab_type": "code",
    "id": "44UiE9uJcybG"
   },
   "outputs": [],
   "source": [
    "model = text_clf.fit(X_train,y_train)"
   ]
  },
  {
   "cell_type": "code",
   "execution_count": 0,
   "metadata": {
    "colab": {},
    "colab_type": "code",
    "id": "BuSld_gicybJ"
   },
   "outputs": [],
   "source": [
    "predicted = model.predict(X_test)"
   ]
  },
  {
   "cell_type": "code",
   "execution_count": 0,
   "metadata": {
    "colab": {},
    "colab_type": "code",
    "id": "AP9mNIPLcybQ"
   },
   "outputs": [],
   "source": [
    "from sklearn.metrics import precision_score,recall_score,f1_score, accuracy_score, confusion_matrix"
   ]
  },
  {
   "cell_type": "code",
   "execution_count": 16,
   "metadata": {
    "colab": {
     "base_uri": "https://localhost:8080/",
     "height": 52
    },
    "colab_type": "code",
    "executionInfo": {
     "elapsed": 1220,
     "status": "ok",
     "timestamp": 1542343578080,
     "user": {
      "displayName": "Venkatesh Tadinada",
      "photoUrl": "",
      "userId": "11340529044771548550"
     },
     "user_tz": 480
    },
    "id": "Hl9X8LfE-bmh",
    "outputId": "acc9131d-f958-4420-86a1-a66c79a44ae1"
   },
   "outputs": [
    {
     "data": {
      "text/plain": [
       "array([[5908,   29],\n",
       "       [ 252,  204]])"
      ]
     },
     "execution_count": 16,
     "metadata": {
      "tags": []
     },
     "output_type": "execute_result"
    }
   ],
   "source": [
    "confusion_matrix(y_test,predicted)"
   ]
  },
  {
   "cell_type": "code",
   "execution_count": 17,
   "metadata": {
    "colab": {
     "base_uri": "https://localhost:8080/",
     "height": 34
    },
    "colab_type": "code",
    "executionInfo": {
     "elapsed": 1443,
     "status": "ok",
     "timestamp": 1542343598893,
     "user": {
      "displayName": "Venkatesh Tadinada",
      "photoUrl": "",
      "userId": "11340529044771548550"
     },
     "user_tz": 480
    },
    "id": "nyRyVCpOcybX",
    "outputId": "fbec2f6c-4c94-4e30-b335-b662552becb7"
   },
   "outputs": [
    {
     "data": {
      "text/plain": [
       "0.9560456749569842"
      ]
     },
     "execution_count": 17,
     "metadata": {
      "tags": []
     },
     "output_type": "execute_result"
    }
   ],
   "source": [
    "accuracy_score(y_test,predicted)"
   ]
  },
  {
   "cell_type": "code",
   "execution_count": 18,
   "metadata": {
    "colab": {
     "base_uri": "https://localhost:8080/",
     "height": 34
    },
    "colab_type": "code",
    "executionInfo": {
     "elapsed": 2525,
     "status": "ok",
     "timestamp": 1542343634530,
     "user": {
      "displayName": "Venkatesh Tadinada",
      "photoUrl": "",
      "userId": "11340529044771548550"
     },
     "user_tz": 480
    },
    "id": "gC4FA0B16Q46",
    "outputId": "4f20cfaa-369c-455b-d643-f0e2d4804bf1"
   },
   "outputs": [
    {
     "data": {
      "text/plain": [
       "0.8755364806866953"
      ]
     },
     "execution_count": 18,
     "metadata": {
      "tags": []
     },
     "output_type": "execute_result"
    }
   ],
   "source": [
    "precision_score(y_test,predicted)"
   ]
  },
  {
   "cell_type": "code",
   "execution_count": 19,
   "metadata": {
    "colab": {
     "base_uri": "https://localhost:8080/",
     "height": 34
    },
    "colab_type": "code",
    "executionInfo": {
     "elapsed": 3210,
     "status": "ok",
     "timestamp": 1542343805553,
     "user": {
      "displayName": "Venkatesh Tadinada",
      "photoUrl": "",
      "userId": "11340529044771548550"
     },
     "user_tz": 480
    },
    "id": "jR6qcZrbcybd",
    "outputId": "9811343d-52fd-4947-f9dc-c00696159a79"
   },
   "outputs": [
    {
     "data": {
      "text/plain": [
       "0.4473684210526316"
      ]
     },
     "execution_count": 19,
     "metadata": {
      "tags": []
     },
     "output_type": "execute_result"
    }
   ],
   "source": [
    "recall_score(y_test,predicted)"
   ]
  },
  {
   "cell_type": "code",
   "execution_count": 0,
   "metadata": {
    "colab": {},
    "colab_type": "code",
    "id": "93wsrfhkcybh"
   },
   "outputs": [],
   "source": [
    "f1_score(y_test,predicted)"
   ]
  },
  {
   "cell_type": "markdown",
   "metadata": {
    "colab_type": "text",
    "id": "OwFkPP4Gcybm"
   },
   "source": [
    "# 04 and 05 : Feature Engineering and Model Selection (2nd Iteration)"
   ]
  },
  {
   "cell_type": "markdown",
   "metadata": {
    "colab_type": "text",
    "id": "47IjHacjcybn"
   },
   "source": [
    "Preprocessing of Text data is very important for Textual Analysis. Tokenization, Feature Extraction (Vectorization) are the most important techniques in Scikit-Learn. \n",
    "The text must be parsed to extract words, called tokenization. Then the words need to be encoded as integers or floating point values for use as input to a machine learning algorithm, called feature extraction (or vectorization).\n"
   ]
  },
  {
   "cell_type": "code",
   "execution_count": 0,
   "metadata": {
    "colab": {},
    "colab_type": "code",
    "id": "Gix7KnZTcybp"
   },
   "outputs": [],
   "source": [
    "#regular expression \n",
    "import re \n",
    "\n",
    "#regular expression for the removal of name tags and the emoticons from tweets.\n",
    "def process_tweet(tweet):\n",
    "    return \" \".join(re.sub(\"(@[A-Za-z0-9]+)|([^0-9A-Za-z \\t])\", \" \",tweet.lower()).split())"
   ]
  },
  {
   "cell_type": "code",
   "execution_count": 0,
   "metadata": {
    "colab": {},
    "colab_type": "code",
    "id": "ku256IDFcybs"
   },
   "outputs": [],
   "source": [
    "#Dropping of columns from pd\n",
    "def drop_features(features,data):\n",
    "    data.drop(features,inplace=True,axis=1)"
   ]
  },
  {
   "cell_type": "code",
   "execution_count": 0,
   "metadata": {
    "colab": {},
    "colab_type": "code",
    "id": "OhfPruW_cybv"
   },
   "outputs": [],
   "source": [
    "#Applying the Process_tweet function to the given Train Data\n",
    "train['processed_tweets'] = train['tweet'].apply(process_tweet)"
   ]
  },
  {
   "cell_type": "code",
   "execution_count": 0,
   "metadata": {
    "colab": {},
    "colab_type": "code",
    "id": "fIFHG0sHcyby"
   },
   "outputs": [],
   "source": [
    "train.head()"
   ]
  },
  {
   "cell_type": "code",
   "execution_count": 0,
   "metadata": {
    "colab": {},
    "colab_type": "code",
    "id": "TPBOZpkmcyb1"
   },
   "outputs": [],
   "source": [
    "train[train['label']==1].head(20)"
   ]
  },
  {
   "cell_type": "code",
   "execution_count": 0,
   "metadata": {
    "colab": {},
    "colab_type": "code",
    "id": "8sKtJXnWcyb4"
   },
   "outputs": [],
   "source": [
    "drop_features(['id','tweet'],train)"
   ]
  },
  {
   "cell_type": "code",
   "execution_count": 0,
   "metadata": {
    "colab": {},
    "colab_type": "code",
    "id": "5IicKPahcyb8"
   },
   "outputs": [],
   "source": [
    "train.head()"
   ]
  },
  {
   "cell_type": "code",
   "execution_count": 0,
   "metadata": {
    "colab": {},
    "colab_type": "code",
    "id": "iUs7ij12cycA"
   },
   "outputs": [],
   "source": [
    "#splitting the data into random train and test subsets\n",
    "x_train, x_test, y_train, y_test = train_test_split(train[\"processed_tweets\"],train[\"label\"],\n",
    "                                                    test_size = 0.2, random_state = 42)"
   ]
  },
  {
   "cell_type": "markdown",
   "metadata": {
    "colab_type": "text",
    "id": "ppnpLomfcycD"
   },
   "source": [
    "Pipeline : Sequentially apply a list of transforms and a final estimator. Intermediate steps of the pipeline must be ‘transforms’, that is, they must implement fit and transform methods. The final estimator only needs to implement fit. "
   ]
  },
  {
   "cell_type": "code",
   "execution_count": 0,
   "metadata": {
    "colab": {},
    "colab_type": "code",
    "id": "ILSy_zy-cycG"
   },
   "outputs": [],
   "source": [
    "text_clf = Pipeline([('vect', CountVectorizer(stop_words='english')),\n",
    "                      ('tfidf', TfidfTransformer()),\n",
    "                     ('clf', RandomForestClassifier(n_estimators=200)),])\n",
    "text = text_clf.fit(x_train,y_train)"
   ]
  },
  {
   "cell_type": "code",
   "execution_count": 0,
   "metadata": {
    "colab": {},
    "colab_type": "code",
    "id": "ErVvXOqkcycK"
   },
   "outputs": [],
   "source": [
    "predicted = text.predict(x_test)"
   ]
  },
  {
   "cell_type": "code",
   "execution_count": 0,
   "metadata": {
    "colab": {},
    "colab_type": "code",
    "id": "uv3YZCOEcycO"
   },
   "outputs": [],
   "source": [
    "from sklearn.metrics import confusion_matrix, classification_report,precision_score"
   ]
  },
  {
   "cell_type": "code",
   "execution_count": 0,
   "metadata": {
    "colab": {},
    "colab_type": "code",
    "id": "P0rDhze8cycW"
   },
   "outputs": [],
   "source": [
    "cm_m = confusion_matrix(y_test,predicted)\n",
    "cm_m"
   ]
  },
  {
   "cell_type": "code",
   "execution_count": 0,
   "metadata": {
    "colab": {},
    "colab_type": "code",
    "id": "y5G_beLH3NPF"
   },
   "outputs": [],
   "source": [
    "TN, FP = cm_m[0]\n",
    "FN, TP = cm_m[1]"
   ]
  },
  {
   "cell_type": "code",
   "execution_count": 0,
   "metadata": {
    "colab": {},
    "colab_type": "code",
    "id": "RsIU_dO73WOj"
   },
   "outputs": [],
   "source": [
    "TP"
   ]
  },
  {
   "cell_type": "code",
   "execution_count": 0,
   "metadata": {
    "colab": {},
    "colab_type": "code",
    "id": "pyZgRKJB43Yr"
   },
   "outputs": [],
   "source": [
    "float(TN+TP)/(TN+TP+FN+FP)"
   ]
  },
  {
   "cell_type": "code",
   "execution_count": 0,
   "metadata": {
    "colab": {},
    "colab_type": "code",
    "id": "eLPHotjvRkFc"
   },
   "outputs": [],
   "source": [
    "p = TP/(TP+FP)\n",
    "p"
   ]
  },
  {
   "cell_type": "code",
   "execution_count": 0,
   "metadata": {
    "colab": {},
    "colab_type": "code",
    "id": "mbhuq7iscyca"
   },
   "outputs": [],
   "source": [
    "precision_score(y_test,predicted)"
   ]
  },
  {
   "cell_type": "code",
   "execution_count": 0,
   "metadata": {
    "colab": {},
    "colab_type": "code",
    "id": "R289nYn8R0Tg"
   },
   "outputs": [],
   "source": [
    "r = TP/(FN+TP)\n",
    "r"
   ]
  },
  {
   "cell_type": "code",
   "execution_count": 0,
   "metadata": {
    "colab": {},
    "colab_type": "code",
    "id": "XsUDNFfUcyce"
   },
   "outputs": [],
   "source": [
    "recall_score(y_test,predicted)"
   ]
  },
  {
   "cell_type": "code",
   "execution_count": 0,
   "metadata": {
    "colab": {},
    "colab_type": "code",
    "id": "J6nnay9jR7pO"
   },
   "outputs": [],
   "source": [
    "f1 = 2*p*r/(p+r)\n",
    "f1"
   ]
  },
  {
   "cell_type": "code",
   "execution_count": 0,
   "metadata": {
    "colab": {},
    "colab_type": "code",
    "id": "8sDAeurqcycS"
   },
   "outputs": [],
   "source": [
    "f1_score(y_test,predicted)"
   ]
  },
  {
   "cell_type": "markdown",
   "metadata": {
    "colab_type": "text",
    "id": "Xx62aifHcych"
   },
   "source": [
    "# 04 and 05 : Feature Engineering and Model Selection (3rd Iteration)"
   ]
  },
  {
   "cell_type": "code",
   "execution_count": 0,
   "metadata": {
    "colab": {},
    "colab_type": "code",
    "id": "zA5IBXItcyci"
   },
   "outputs": [],
   "source": [
    "\n",
    "count_vect = CountVectorizer(stop_words='english',ngram_range=(1,2),analyzer='word')\n",
    "transformer = TfidfTransformer(norm='l2',sublinear_tf=True)"
   ]
  },
  {
   "cell_type": "code",
   "execution_count": 0,
   "metadata": {
    "colab": {},
    "colab_type": "code",
    "id": "Zf0Ff6BZcycl"
   },
   "outputs": [],
   "source": [
    "#splitting the data into random train and test subsets\n",
    "x_train, x_test, y_train, y_test = train_test_split(train[\"processed_tweets\"],train[\"label\"],\n",
    "                                                    test_size = 0.2, random_state = 42)\n",
    "\n",
    "x_train_counts = count_vect.fit_transform(x_train)\n",
    "x_train_tfidf = transformer.fit_transform(x_train_counts)\n",
    "x_test_counts = count_vect.transform(x_test)\n",
    "x_test_tfidf = transformer.transform(x_test_counts)"
   ]
  },
  {
   "cell_type": "code",
   "execution_count": 0,
   "metadata": {
    "colab": {},
    "colab_type": "code",
    "id": "uazetEyTcycq"
   },
   "outputs": [],
   "source": [
    "print(x_train_counts.shape)\n",
    "print(x_train_tfidf.shape)\n",
    "print(x_test_counts.shape)\n",
    "print(x_test_tfidf.shape)"
   ]
  },
  {
   "cell_type": "code",
   "execution_count": 0,
   "metadata": {
    "colab": {},
    "colab_type": "code",
    "id": "OL_yxN9Gcycv"
   },
   "outputs": [],
   "source": [
    "from sklearn.linear_model import SGDClassifier\n",
    "\n",
    "model = SGDClassifier(loss=\"modified_huber\", penalty=\"l1\")\n",
    "model.fit(x_train_tfidf,y_train)\n",
    "predictions = model.predict(x_test_tfidf)"
   ]
  },
  {
   "cell_type": "code",
   "execution_count": 0,
   "metadata": {
    "colab": {},
    "colab_type": "code",
    "id": "oZjcEFlacyc0"
   },
   "outputs": [],
   "source": [
    "f1_score(y_test,predictions)"
   ]
  },
  {
   "cell_type": "code",
   "execution_count": 0,
   "metadata": {
    "colab": {},
    "colab_type": "code",
    "id": "F7FL95xSCRiz"
   },
   "outputs": [],
   "source": [
    "recall_score(y_test,predictions)"
   ]
  },
  {
   "cell_type": "code",
   "execution_count": 0,
   "metadata": {
    "colab": {},
    "colab_type": "code",
    "id": "WKgx4J3VCRWy"
   },
   "outputs": [],
   "source": [
    "precision_score(y_test,predictions)"
   ]
  },
  {
   "cell_type": "code",
   "execution_count": 0,
   "metadata": {
    "colab": {},
    "colab_type": "code",
    "id": "uOJfC-TQCRKS"
   },
   "outputs": [],
   "source": [
    "f1_score(y_test,predictions)"
   ]
  },
  {
   "cell_type": "markdown",
   "metadata": {
    "colab_type": "text",
    "id": "nGzaxQ4ccyc3"
   },
   "source": [
    "# 05 : Model Selection"
   ]
  },
  {
   "cell_type": "code",
   "execution_count": 0,
   "metadata": {
    "colab": {},
    "colab_type": "code",
    "id": "C2HWZTTjcyc5"
   },
   "outputs": [],
   "source": [
    "#different classification modesls being used\n",
    "from sklearn.svm import LinearSVC\n",
    "\n",
    "model_svc = LinearSVC(C=2.0,max_iter=500,tol=0.0001,loss ='hinge')\n",
    "model_svc.fit(x_train_counts,y_train)"
   ]
  },
  {
   "cell_type": "code",
   "execution_count": 0,
   "metadata": {
    "colab": {},
    "colab_type": "code",
    "id": "b_LTy4q4cyc_"
   },
   "outputs": [],
   "source": [
    "predict_svc = model_svc.predict(x_test_counts)"
   ]
  },
  {
   "cell_type": "code",
   "execution_count": 0,
   "metadata": {
    "colab": {},
    "colab_type": "code",
    "id": "qnYwAU5DcydC"
   },
   "outputs": [],
   "source": [
    "f1_score(y_test,predict_svc)"
   ]
  },
  {
   "cell_type": "code",
   "execution_count": 0,
   "metadata": {
    "colab": {},
    "colab_type": "code",
    "id": "L4DupaqjChEM"
   },
   "outputs": [],
   "source": [
    "recall_score(y_test,predict_svc)"
   ]
  },
  {
   "cell_type": "markdown",
   "metadata": {
    "colab_type": "text",
    "id": "PTMPadzBcydM"
   },
   "source": [
    "# 06 : Tune the Model"
   ]
  },
  {
   "cell_type": "code",
   "execution_count": 0,
   "metadata": {
    "colab": {},
    "colab_type": "code",
    "id": "GrYMEX1rcydN"
   },
   "outputs": [],
   "source": [
    "\n",
    "#optimizing parameters\n",
    "from sklearn.model_selection import GridSearchCV\n",
    "\n",
    "\n",
    "params = {\"tfidf__ngram_range\": [(1, 2), (1,3)],\n",
    "          \"svc__C\": [.01, .1, 1, 10, 100]}\n",
    "\n",
    "clf = Pipeline([(\"tfidf\", TfidfVectorizer(sublinear_tf=True)),\n",
    "                (\"svc\", LinearSVC(loss='hinge'))])\n",
    "\n",
    "gs = GridSearchCV(clf, params, verbose=2, n_jobs=-1)\n",
    "gs.fit(x_train,y_train)\n",
    "print(\"Best Estimator = \", gs.best_estimator_)\n",
    "print(\"Best Score = \",gs.best_score_)"
   ]
  },
  {
   "cell_type": "code",
   "execution_count": 0,
   "metadata": {
    "colab": {},
    "colab_type": "code",
    "id": "dwYFNF0ccydQ"
   },
   "outputs": [],
   "source": [
    "predicted = gs.predict(x_test)\n"
   ]
  },
  {
   "cell_type": "code",
   "execution_count": 0,
   "metadata": {
    "colab": {},
    "colab_type": "code",
    "id": "RcIFAblxcydU"
   },
   "outputs": [],
   "source": [
    "predicted"
   ]
  },
  {
   "cell_type": "code",
   "execution_count": 0,
   "metadata": {
    "colab": {},
    "colab_type": "code",
    "id": "JD6u-vtNcydY"
   },
   "outputs": [],
   "source": [
    "f1_score(y_test,predicted)"
   ]
  },
  {
   "cell_type": "code",
   "execution_count": 0,
   "metadata": {
    "colab": {},
    "colab_type": "code",
    "id": "lDzYhR4LGC1O"
   },
   "outputs": [],
   "source": [
    "recall_score(y_test,predicted)"
   ]
  },
  {
   "cell_type": "code",
   "execution_count": 0,
   "metadata": {
    "colab": {},
    "colab_type": "code",
    "id": "Rmlfhm1CGCsm"
   },
   "outputs": [],
   "source": [
    "precision_score(y_test,predicted)"
   ]
  },
  {
   "cell_type": "markdown",
   "metadata": {
    "colab_type": "text",
    "id": "DEspfC2rcydf"
   },
   "source": [
    "# 07 : Predict on new cases"
   ]
  },
  {
   "cell_type": "code",
   "execution_count": 0,
   "metadata": {
    "colab": {},
    "colab_type": "code",
    "id": "U7vEEfaAfPUR"
   },
   "outputs": [],
   "source": [
    "!wget https://www.dropbox.com/s/as2y6lpjsh6284l/test.csv"
   ]
  },
  {
   "cell_type": "code",
   "execution_count": 0,
   "metadata": {
    "colab": {},
    "colab_type": "code",
    "id": "5-gLZQBUcydg"
   },
   "outputs": [],
   "source": [
    "submission = pd.read_csv('test.csv')\n",
    "submission.info()"
   ]
  },
  {
   "cell_type": "code",
   "execution_count": 0,
   "metadata": {
    "colab": {},
    "colab_type": "code",
    "id": "MR_4JhdGcydj"
   },
   "outputs": [],
   "source": [
    "submission['processed_tweet'] = submission['tweet'].apply(process_tweet)"
   ]
  },
  {
   "cell_type": "code",
   "execution_count": 0,
   "metadata": {
    "colab": {},
    "colab_type": "code",
    "id": "87TJQBwBcydp"
   },
   "outputs": [],
   "source": [
    "submission.head()"
   ]
  },
  {
   "cell_type": "code",
   "execution_count": 0,
   "metadata": {
    "colab": {},
    "colab_type": "code",
    "id": "uZIrcv-Vcyds"
   },
   "outputs": [],
   "source": [
    "drop_features(['tweet'],submission)"
   ]
  },
  {
   "cell_type": "code",
   "execution_count": 0,
   "metadata": {
    "colab": {},
    "colab_type": "code",
    "id": "xrBlYyEXcydw"
   },
   "outputs": [],
   "source": [
    "submission.head()"
   ]
  },
  {
   "cell_type": "code",
   "execution_count": 0,
   "metadata": {
    "colab": {},
    "colab_type": "code",
    "id": "wNdl88jMcyd2"
   },
   "outputs": [],
   "source": [
    "predicted = gs.predict(submission['processed_tweet'])"
   ]
  },
  {
   "cell_type": "code",
   "execution_count": 0,
   "metadata": {
    "colab": {},
    "colab_type": "code",
    "id": "rtvZBhVacyd8"
   },
   "outputs": [],
   "source": [
    "predicted"
   ]
  },
  {
   "cell_type": "code",
   "execution_count": 0,
   "metadata": {
    "colab": {},
    "colab_type": "code",
    "id": "Ooq33e_zcyeA"
   },
   "outputs": [],
   "source": [
    "final_predict = pd.DataFrame(predicted,columns=['label'])\n",
    "result = pd.DataFrame(submission['id'],columns=['id'])\n",
    "result = pd.concat([result,final_predict],axis=1)\n",
    "result.to_csv('final_predictions.csv',index=False)"
   ]
  },
  {
   "cell_type": "code",
   "execution_count": 0,
   "metadata": {
    "colab": {},
    "colab_type": "code",
    "id": "5EOBhV-gcyeD"
   },
   "outputs": [],
   "source": [
    "result['label'].value_counts()"
   ]
  },
  {
   "cell_type": "code",
   "execution_count": 0,
   "metadata": {
    "colab": {},
    "colab_type": "code",
    "id": "HQrRoUiTRg5T"
   },
   "outputs": [],
   "source": []
  }
 ],
 "metadata": {
  "colab": {
   "collapsed_sections": [
    "tzm0SgHAcyaV",
    "ET4Fn8TJcyaX",
    "CbdkRYxrcyak",
    "LxscakkRcyaz",
    "OwFkPP4Gcybm",
    "Xx62aifHcych"
   ],
   "name": "Twitter_Sentiment_Analysis.ipynb",
   "provenance": [],
   "version": "0.3.2"
  },
  "kernelspec": {
   "display_name": "Python 3",
   "language": "python",
   "name": "python3"
  },
  "language_info": {
   "codemirror_mode": {
    "name": "ipython",
    "version": 3
   },
   "file_extension": ".py",
   "mimetype": "text/x-python",
   "name": "python",
   "nbconvert_exporter": "python",
   "pygments_lexer": "ipython3",
   "version": "3.6.5"
  }
 },
 "nbformat": 4,
 "nbformat_minor": 1
}
