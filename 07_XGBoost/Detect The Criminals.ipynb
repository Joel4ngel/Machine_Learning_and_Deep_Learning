{
 "cells": [
  {
   "cell_type": "markdown",
   "metadata": {
    "colab_type": "text",
    "id": "jrPuC4gOy0o-"
   },
   "source": [
    "# Predict the Criminals"
   ]
  },
  {
   "cell_type": "markdown",
   "metadata": {
    "colab_type": "text",
    "id": "fi-v3NSWy0o_"
   },
   "source": [
    "## 01 : Frame the Problem"
   ]
  },
  {
   "cell_type": "markdown",
   "metadata": {
    "colab_type": "text",
    "id": "DJwqE8Z7y0pA"
   },
   "source": [
    "#### Problem Link:https://www.hackerearth.com/problem/machine-learning/predict-the-criminal/description/"
   ]
  },
  {
   "cell_type": "markdown",
   "metadata": {
    "colab_type": "text",
    "id": "QRTQfLFty0pB"
   },
   "source": [
    "There has been a surge in crimes committed in recent years, making crime a top cause of concern for law enforcement. If we are able to estimate whether someone is going to commit a crime in the future, we can take precautions and be prepared. You are given a dataset containing answers to various questions concerning the professional and private lives of several people. A few of them have been arrested for various small and large crimes in the past. Use the given data to predict if the people in the test data will commit a crime. The train data consists of 45718 rows, while the test data consists of 11430 rows.Given this, we have to predict whether a person is criminal or not."
   ]
  },
  {
   "cell_type": "markdown",
   "metadata": {
    "colab_type": "text",
    "id": "2lYY3102y0pC"
   },
   "source": [
    "### Importing the Libraries"
   ]
  },
  {
   "cell_type": "code",
   "execution_count": 0,
   "metadata": {
    "colab": {},
    "colab_type": "code",
    "id": "H61EBZgvy0pD"
   },
   "outputs": [],
   "source": [
    "import pandas as pd\n",
    "import numpy as np\n",
    "from sklearn import metrics\n",
    "from sklearn.model_selection import cross_validate  #to include metrics for evaluation\n",
    "from sklearn.model_selection import GridSearchCV #to use gridsearchcv\n",
    "from sklearn.model_selection import train_test_split\n",
    "import matplotlib.pylab as plt\n",
    "%matplotlib inline"
   ]
  },
  {
   "cell_type": "markdown",
   "metadata": {
    "colab_type": "text",
    "id": "sknHgWZQy0pI"
   },
   "source": [
    "## 02 and 03 : Obtain Data and Analyse The Data"
   ]
  },
  {
   "cell_type": "code",
   "execution_count": 0,
   "metadata": {
    "colab": {},
    "colab_type": "code",
    "id": "fzVASp4_jCrd"
   },
   "outputs": [],
   "source": [
    "!wget https://www.dropbox.com/s/oyaehyvu7yx57pe/criminal_train.csv"
   ]
  },
  {
   "cell_type": "code",
   "execution_count": 0,
   "metadata": {
    "colab": {},
    "colab_type": "code",
    "id": "dmOFyHcF00bR"
   },
   "outputs": [],
   "source": [
    "ls -l"
   ]
  },
  {
   "cell_type": "code",
   "execution_count": 0,
   "metadata": {
    "colab": {},
    "colab_type": "code",
    "id": "gfmhfLvmy0pJ"
   },
   "outputs": [],
   "source": [
    "crim_data=pd.read_csv('criminal_train.csv')\n",
    "crim_data.head()"
   ]
  },
  {
   "cell_type": "code",
   "execution_count": 0,
   "metadata": {
    "colab": {},
    "colab_type": "code",
    "id": "yQJYcrjpy0pN"
   },
   "outputs": [],
   "source": [
    "crim_data.info()"
   ]
  },
  {
   "cell_type": "code",
   "execution_count": 0,
   "metadata": {
    "colab": {},
    "colab_type": "code",
    "id": "smyN0sMQy0pS"
   },
   "outputs": [],
   "source": [
    "#Theory is is SKLearn.org documentation : http://xgboost.readthedocs.io/en/latest/python/python_api.html"
   ]
  },
  {
   "cell_type": "code",
   "execution_count": 0,
   "metadata": {
    "colab": {},
    "colab_type": "code",
    "id": "2eZGU219y0pV"
   },
   "outputs": [],
   "source": [
    "a = \"abcdefgh\""
   ]
  },
  {
   "cell_type": "code",
   "execution_count": 0,
   "metadata": {
    "colab": {},
    "colab_type": "code",
    "id": "7lvjTbSAy0pY"
   },
   "outputs": [],
   "source": [
    "a"
   ]
  },
  {
   "cell_type": "code",
   "execution_count": 0,
   "metadata": {
    "colab": {},
    "colab_type": "code",
    "id": "xoDZ6mlFy0pg"
   },
   "outputs": [],
   "source": [
    "b = a[::-1]"
   ]
  },
  {
   "cell_type": "code",
   "execution_count": 0,
   "metadata": {
    "colab": {},
    "colab_type": "code",
    "id": "Jz4K37Ipy0pj"
   },
   "outputs": [],
   "source": [
    "b"
   ]
  },
  {
   "cell_type": "markdown",
   "metadata": {
    "colab_type": "text",
    "id": "Za0jp-Npy0ps"
   },
   "source": [
    "## 04 :  Prepare the Data"
   ]
  },
  {
   "cell_type": "code",
   "execution_count": 0,
   "metadata": {
    "colab": {},
    "colab_type": "code",
    "id": "1INgdQZMy0pt"
   },
   "outputs": [],
   "source": [
    "  #Splitting the data for testing and training"
   ]
  },
  {
   "cell_type": "code",
   "execution_count": 0,
   "metadata": {
    "colab": {},
    "colab_type": "code",
    "id": "OduTMX_ay0py"
   },
   "outputs": [],
   "source": [
    "X_train, X_test, y_train, y_test = train_test_split(crim_data.drop('Criminal',axis=1), \n",
    "                                                    crim_data['Criminal'], test_size=0.30, \n",
    "                                                    random_state=101)"
   ]
  },
  {
   "cell_type": "code",
   "execution_count": 0,
   "metadata": {
    "colab": {},
    "colab_type": "code",
    "id": "MhI4K6nby0p1"
   },
   "outputs": [],
   "source": [
    "train=pd.concat([X_train,y_train],axis=1)"
   ]
  },
  {
   "cell_type": "code",
   "execution_count": 0,
   "metadata": {
    "colab": {},
    "colab_type": "code",
    "id": "Ejwbdo3ny0p8"
   },
   "outputs": [],
   "source": [
    "#function to estimate the best value of n_estimators and fit the model with the given data"
   ]
  },
  {
   "cell_type": "code",
   "execution_count": 0,
   "metadata": {
    "colab": {},
    "colab_type": "code",
    "id": "XDrWVKRSy0p_"
   },
   "outputs": [],
   "source": [
    "def modelfit(alg, dtrain, predictors,useTrainCV=True, cv_folds=5, early_stopping_rounds=50):\n",
    "    \n",
    "    if useTrainCV:\n",
    "        #to get the parameters of xgboost\n",
    "        xgb_param = alg.get_xgb_params() \n",
    "        \n",
    "        #to convert into a datastructure internally used by xgboost for training efficiency \n",
    "        # and speed\n",
    "        xgtrain = xgb.DMatrix(dtrain[predictors].values, label=dtrain[target].values)\n",
    "        \n",
    "        #xgb.cv is used to find the number of estimators required for the parameters \n",
    "        # which are set\n",
    "        cvresult = xgb.cv(xgb_param, xgtrain, \n",
    "                          num_boost_round=alg.get_params()['n_estimators'], nfold=cv_folds,\n",
    "                        metrics='auc', early_stopping_rounds=early_stopping_rounds)\n",
    "        \n",
    "        #setting the n_estimators parameter using set_params\n",
    "        alg.set_params(n_estimators=cvresult.shape[0])\n",
    "        \n",
    "        print(alg.get_xgb_params())\n",
    "    \n",
    "    #Fit the algorithm on the data\n",
    "    alg.fit(dtrain[predictors], dtrain['Criminal'],eval_metric='auc')\n",
    "    \n",
    "    return alg"
   ]
  },
  {
   "cell_type": "code",
   "execution_count": 0,
   "metadata": {
    "colab": {},
    "colab_type": "code",
    "id": "AsILrXIay0qC"
   },
   "outputs": [],
   "source": [
    "#function to get the accuracy of the model on the test data given the features considered"
   ]
  },
  {
   "cell_type": "code",
   "execution_count": 0,
   "metadata": {
    "colab": {},
    "colab_type": "code",
    "id": "z9WG0lNYy0qF"
   },
   "outputs": [],
   "source": [
    "def get_accuracy(alg,predictors):\n",
    "    dtrain_predictions = alg.predict(X_test[predictors])\n",
    "    dtrain_predprob = alg.predict_proba(X_test[predictors])[:,1]\n",
    "    print (\"\\nModel Report\")\n",
    "    print (\"Accuracy : %.4g\" % metrics.accuracy_score(y_test.values, \n",
    "                                                      dtrain_predictions))\n",
    "    print (\"AUC Score (Train): %f\" % metrics.roc_auc_score(y_test.values, \n",
    "                                                           dtrain_predprob))"
   ]
  },
  {
   "cell_type": "code",
   "execution_count": 0,
   "metadata": {
    "colab": {},
    "colab_type": "code",
    "id": "EBevLNUWy0qH"
   },
   "outputs": [],
   "source": [
    "#function to get the feature importances based on the model fit"
   ]
  },
  {
   "cell_type": "code",
   "execution_count": 0,
   "metadata": {
    "colab": {},
    "colab_type": "code",
    "id": "AzV_bz3Hy0qK"
   },
   "outputs": [],
   "source": [
    "def get_feature_importances(alg):\n",
    "    #to get the feature importances based on xgboost we use fscore\n",
    "    feat_imp = pd.Series(alg._Booster.get_fscore()).sort_values(ascending=False)\n",
    "    print(feat_imp)\n",
    "    \n",
    "    #this shows the feature importances on a bar chart\n",
    "    feat_imp.plot(kind='bar', title='Feature Importances')\n",
    "    plt.ylabel('Feature Importance Score')"
   ]
  },
  {
   "cell_type": "code",
   "execution_count": 0,
   "metadata": {
    "colab": {},
    "colab_type": "code",
    "id": "4-96Qa11y0qQ"
   },
   "outputs": [],
   "source": [
    "target = 'Criminal'\n",
    "IDcol = 'PERID'"
   ]
  },
  {
   "cell_type": "markdown",
   "metadata": {
    "colab_type": "text",
    "id": "xn7ABOQky0qV"
   },
   "source": [
    "## 05 : Model Selection"
   ]
  },
  {
   "cell_type": "code",
   "execution_count": 0,
   "metadata": {
    "colab": {},
    "colab_type": "code",
    "id": "qtqV9eggy0qW"
   },
   "outputs": [],
   "source": [
    "#to return the XGBClassifier object based on the values of the features"
   ]
  },
  {
   "cell_type": "code",
   "execution_count": 0,
   "metadata": {
    "colab": {},
    "colab_type": "code",
    "id": "9kBqFmhe0kWQ"
   },
   "outputs": [],
   "source": [
    "!pip install xgboost"
   ]
  },
  {
   "cell_type": "code",
   "execution_count": 0,
   "metadata": {
    "colab": {},
    "colab_type": "code",
    "id": "swdjCkipy0qa"
   },
   "outputs": [],
   "source": [
    "def XgbClass(learning_rate =0.1,n_estimators=1000,max_depth=5,min_child_weight=1,\n",
    "             gamma=0,subsample=0.8,colsample_bytree=0.8):\n",
    "    xgb1 = XGBClassifier(learning_rate=learning_rate,\n",
    "                         n_estimators=n_estimators,\n",
    "                         max_depth=max_depth,\n",
    "                         min_child_weight=min_child_weight,\n",
    "                         gamma=gamma,\n",
    "                         subsample=subsample,\n",
    "                         colsample_bytree=colsample_bytree)\n",
    "    return xgb1"
   ]
  },
  {
   "cell_type": "code",
   "execution_count": 0,
   "metadata": {
    "colab": {},
    "colab_type": "code",
    "id": "m837XZX5y0qd"
   },
   "outputs": [],
   "source": [
    "#Function to return the list of predictors"
   ]
  },
  {
   "cell_type": "code",
   "execution_count": 0,
   "metadata": {
    "colab": {},
    "colab_type": "code",
    "id": "9dQWyI57y0qf"
   },
   "outputs": [],
   "source": [
    "#these are the initial parameters before tuning\n",
    "def drop_features(l):\n",
    "    return [x for x in train.columns if x not in l]"
   ]
  },
  {
   "cell_type": "markdown",
   "metadata": {
    "colab_type": "text",
    "id": "jgoA5DT7y0qj"
   },
   "source": [
    "### First Prediction : Use of initial parameters and without feature engineering"
   ]
  },
  {
   "cell_type": "code",
   "execution_count": 0,
   "metadata": {
    "colab": {},
    "colab_type": "code",
    "id": "Qjz-FBOZ00Hn"
   },
   "outputs": [],
   "source": [
    "from xgboost import XGBClassifier\n",
    "import xgboost as xgb"
   ]
  },
  {
   "cell_type": "code",
   "execution_count": 0,
   "metadata": {
    "colab": {},
    "colab_type": "code",
    "id": "yTNEx7Jfy0qj"
   },
   "outputs": [],
   "source": [
    "predictors = drop_features([target, IDcol])\n",
    "xgb1=XgbClass()\n",
    "first_model=modelfit(xgb1, train, predictors)\n",
    "xgb1.fit(train[predictors],train['Criminal'])"
   ]
  },
  {
   "cell_type": "code",
   "execution_count": 0,
   "metadata": {
    "colab": {},
    "colab_type": "code",
    "id": "GpuBOp0Yy0qm"
   },
   "outputs": [],
   "source": [
    "get_accuracy(first_model,predictors)"
   ]
  },
  {
   "cell_type": "code",
   "execution_count": 0,
   "metadata": {
    "colab": {},
    "colab_type": "code",
    "id": "LTOwEH9iy0qp"
   },
   "outputs": [],
   "source": [
    "get_feature_importances(first_model)"
   ]
  },
  {
   "cell_type": "markdown",
   "metadata": {
    "colab_type": "text",
    "id": "k7tki9U_y0qt"
   },
   "source": [
    "### Second Prediction : Using intial Parameters and removing features of least importances"
   ]
  },
  {
   "cell_type": "code",
   "execution_count": 0,
   "metadata": {
    "colab": {},
    "colab_type": "code",
    "id": "e8ICSpTry0qt"
   },
   "outputs": [],
   "source": [
    "#model after removing the features of least importance"
   ]
  },
  {
   "cell_type": "code",
   "execution_count": 0,
   "metadata": {
    "colab": {},
    "colab_type": "code",
    "id": "UwzYOgb7y0qx"
   },
   "outputs": [],
   "source": [
    "dropl=['IRWELMOS','MAIIN102','IIPINC3','HLTINNOS','IIHH65_2','TOOLONG']"
   ]
  },
  {
   "cell_type": "code",
   "execution_count": 0,
   "metadata": {
    "colab": {},
    "colab_type": "code",
    "id": "2-MObariy0q0"
   },
   "outputs": [],
   "source": [
    "dropl_first=dropl+[target,IDcol]"
   ]
  },
  {
   "cell_type": "code",
   "execution_count": 0,
   "metadata": {
    "colab": {},
    "colab_type": "code",
    "id": "VKroiJ2hy0q2"
   },
   "outputs": [],
   "source": [
    "#these are the initial parameters before tuning\n",
    "predictors = drop_features(dropl_first)\n",
    "xgb1 = XgbClass()\n",
    "second_model=modelfit(xgb1, train, predictors)"
   ]
  },
  {
   "cell_type": "code",
   "execution_count": 0,
   "metadata": {
    "colab": {},
    "colab_type": "code",
    "id": "0ny8g14-y0q5"
   },
   "outputs": [],
   "source": [
    "get_accuracy(second_model,predictors)"
   ]
  },
  {
   "cell_type": "code",
   "execution_count": 0,
   "metadata": {
    "colab": {},
    "colab_type": "code",
    "id": "-qIp7Hsey0q8"
   },
   "outputs": [],
   "source": [
    "get_feature_importances(second_model)"
   ]
  },
  {
   "cell_type": "markdown",
   "metadata": {
    "colab_type": "text",
    "id": "YXh08Urby0q-"
   },
   "source": [
    "### Third Prediction : Again removing the features of least importance"
   ]
  },
  {
   "cell_type": "code",
   "execution_count": 0,
   "metadata": {
    "colab": {},
    "colab_type": "code",
    "id": "luJXI3key0q-"
   },
   "outputs": [],
   "source": [
    "dropl1=dropl+['IRMCDCHP','HLCLAST','IIKI17_2','IRFAMPMT','IRFSTAMP','ANYHLTI2','IIFAMSVC']\n",
    "dropl_second=dropl_first+['IRMCDCHP','HLCLAST','IIKI17_2','IRFAMPMT','IRFSTAMP','ANYHLTI2',\n",
    "                          'IIFAMSVC']"
   ]
  },
  {
   "cell_type": "code",
   "execution_count": 0,
   "metadata": {
    "colab": {},
    "colab_type": "code",
    "id": "mOO6UZLsy0rB"
   },
   "outputs": [],
   "source": [
    "predictors=drop_features(dropl_second)"
   ]
  },
  {
   "cell_type": "code",
   "execution_count": 0,
   "metadata": {
    "colab": {},
    "colab_type": "code",
    "id": "U5g3UZTFy0rD"
   },
   "outputs": [],
   "source": [
    "xgb1=XgbClass()\n",
    "third_model1=modelfit(xgb1,train,predictors)"
   ]
  },
  {
   "cell_type": "code",
   "execution_count": 0,
   "metadata": {
    "colab": {},
    "colab_type": "code",
    "id": "HRB8Q3wWy0rG"
   },
   "outputs": [],
   "source": [
    "get_accuracy(third_model1,predictors)"
   ]
  },
  {
   "cell_type": "markdown",
   "metadata": {
    "colab_type": "text",
    "id": "BBMTnnlPy0rO"
   },
   "source": [
    "## 06 : Predict on New Cases"
   ]
  },
  {
   "cell_type": "code",
   "execution_count": 0,
   "metadata": {
    "colab": {},
    "colab_type": "code",
    "id": "t21bqh6_y0rQ"
   },
   "outputs": [],
   "source": [
    "#Function stores the result in required csv file and features"
   ]
  },
  {
   "cell_type": "code",
   "execution_count": 0,
   "metadata": {
    "colab": {},
    "colab_type": "code",
    "id": "hSnlGqChjKni"
   },
   "outputs": [],
   "source": [
    "!wget https://www.dropbox.com/s/1jbq922kv3mwi4r/criminal_test.csv"
   ]
  },
  {
   "cell_type": "code",
   "execution_count": 0,
   "metadata": {
    "colab": {},
    "colab_type": "code",
    "id": "dCiT4cBYy0rW"
   },
   "outputs": [],
   "source": [
    "def RunTestAndSaveResults(features,filename,model):\n",
    "    df1=pd.read_csv('criminal_test.csv')\n",
    "    for i in features:\n",
    "        df1.drop(i,axis=1,inplace=True)\n",
    "    predict=model.predict(df1.drop('PERID',axis=1))\n",
    "    data=pd.DataFrame(df1['PERID'],columns=['PERID'])\n",
    "    data['Criminal']=predict\n",
    "    data.to_csv(filename,index=False)"
   ]
  },
  {
   "cell_type": "code",
   "execution_count": 0,
   "metadata": {
    "colab": {},
    "colab_type": "code",
    "id": "DvepECzIy0rZ"
   },
   "outputs": [],
   "source": [
    "RunTestAndSaveResults([],'result.csv',first_model)"
   ]
  },
  {
   "cell_type": "code",
   "execution_count": 0,
   "metadata": {
    "colab": {},
    "colab_type": "code",
    "id": "720fwp1ly0rc"
   },
   "outputs": [],
   "source": [
    "#This model is giving high accurancy since we applied feature engineering"
   ]
  },
  {
   "cell_type": "code",
   "execution_count": 0,
   "metadata": {
    "colab": {},
    "colab_type": "code",
    "id": "X_UxJsday0re"
   },
   "outputs": [],
   "source": [
    "dropl"
   ]
  },
  {
   "cell_type": "code",
   "execution_count": 0,
   "metadata": {
    "colab": {},
    "colab_type": "code",
    "id": "JOh73xXqy0rh"
   },
   "outputs": [],
   "source": [
    "RunTestAndSaveResults(dropl,'result2.csv',second_model)"
   ]
  },
  {
   "cell_type": "code",
   "execution_count": 0,
   "metadata": {
    "colab": {},
    "colab_type": "code",
    "id": "PedLBhLvy0rl"
   },
   "outputs": [],
   "source": [
    "#When the features are repeated again and again then overfitting takes place and the accuracy decrease"
   ]
  },
  {
   "cell_type": "code",
   "execution_count": 0,
   "metadata": {
    "colab": {},
    "colab_type": "code",
    "id": "BuohDw-7y0ro"
   },
   "outputs": [],
   "source": [
    "RunTestAndSaveResults(dropl1,'result3.csv',third_model1)"
   ]
  },
  {
   "cell_type": "markdown",
   "metadata": {
    "colab_type": "text",
    "id": "Alep7Q3Ky0rr"
   },
   "source": [
    "## 07 : Tuning"
   ]
  },
  {
   "cell_type": "code",
   "execution_count": 0,
   "metadata": {
    "colab": {},
    "colab_type": "code",
    "id": "jyqfjclly0ru"
   },
   "outputs": [],
   "source": [
    "#tune max_depth and min_child_weight"
   ]
  },
  {
   "cell_type": "code",
   "execution_count": 0,
   "metadata": {
    "colab": {},
    "colab_type": "code",
    "id": "3j-9y92iy0ry"
   },
   "outputs": [],
   "source": [
    "predictors = drop_features(dropl_first)\n",
    "predictors"
   ]
  },
  {
   "cell_type": "code",
   "execution_count": 0,
   "metadata": {
    "colab": {},
    "colab_type": "code",
    "id": "6L3sYX43y0r2"
   },
   "outputs": [],
   "source": [
    "param_test1 = {\n",
    " 'max_depth':list(range(5,10,1)),\n",
    " 'min_child_weight':list(range(5,10,1))\n",
    "}\n",
    "gsearch1 = GridSearchCV(estimator=XgbClass(n_estimators=48),param_grid =param_test1,\n",
    "                        scoring='roc_auc',n_jobs=-1,iid=False, cv=5, verbose=3)\n",
    "gsearch1.fit(train[predictors],train[target])\n",
    "gsearch1.grid_scores_, gsearch1.best_params_, gsearch1.best_score_"
   ]
  },
  {
   "cell_type": "code",
   "execution_count": 0,
   "metadata": {
    "colab": {},
    "colab_type": "code",
    "id": "3vc7mUGry0r6"
   },
   "outputs": [],
   "source": [
    "#if the best parameters are edge values then we do \n",
    "#gridsearchcv by taking one less and one value more than the best parameters"
   ]
  },
  {
   "cell_type": "code",
   "execution_count": 0,
   "metadata": {
    "colab": {},
    "colab_type": "code",
    "id": "3ToEbGG2y0sF"
   },
   "outputs": [],
   "source": [
    "param_test2 = {\n",
    " 'max_depth':[6,7,8,9],\n",
    " 'min_child_weight':[2,3,4,5]\n",
    "}\n",
    "gsearch2 = GridSearchCV(estimator=XgbClass(n_estimators=48),param_grid =param_test2,scoring='roc_auc',n_jobs=-1,iid=False, cv=5)\n",
    "gsearch2.fit(train[predictors],train[target])\n",
    "gsearch2.grid_scores_, gsearch2.best_params_, gsearch2.best_score_"
   ]
  },
  {
   "cell_type": "code",
   "execution_count": 0,
   "metadata": {
    "colab": {},
    "colab_type": "code",
    "id": "eBhirbgNy0sK"
   },
   "outputs": [],
   "source": [
    "xgb1 = XgbClass(max_depth=8,min_child_weight=4)\n",
    "model=modelfit(xgb1, train, predictors)"
   ]
  },
  {
   "cell_type": "code",
   "execution_count": 0,
   "metadata": {
    "colab": {},
    "colab_type": "code",
    "id": "2AHAD8Lhy0sM"
   },
   "outputs": [],
   "source": [
    "get_accuracy(model,predictors)"
   ]
  },
  {
   "cell_type": "code",
   "execution_count": 0,
   "metadata": {
    "colab": {},
    "colab_type": "code",
    "id": "U6Yk0ZKWy0sO"
   },
   "outputs": [],
   "source": [
    "#to tune gamma"
   ]
  },
  {
   "cell_type": "code",
   "execution_count": 0,
   "metadata": {
    "colab": {},
    "colab_type": "code",
    "id": "15q5_HFVy0sT"
   },
   "outputs": [],
   "source": [
    "param_test3 = {\n",
    " 'gamma':[i/10.0 for i in range(0,8)]\n",
    "}\n",
    "gsearch3=GridSearchCV(estimator=XgbClass(n_estimators=48,max_depth=7,min_child_weight=5),\n",
    "                      param_grid =param_test3,scoring='roc_auc',n_jobs=-1,iid=False, cv=5)\n",
    "gsearch3.fit(train[predictors],train[target])\n",
    "gsearch3.grid_scores_, gsearch3.best_params_, gsearch3.best_score_"
   ]
  },
  {
   "cell_type": "code",
   "execution_count": 0,
   "metadata": {
    "colab": {},
    "colab_type": "code",
    "id": "OU1BTcThy0sW"
   },
   "outputs": [],
   "source": [
    "xgb1 = XgbClass(max_depth=7,min_child_weight=5,gamma=0)\n",
    "model=modelfit(xgb1, train, predictors)"
   ]
  },
  {
   "cell_type": "code",
   "execution_count": 0,
   "metadata": {
    "colab": {},
    "colab_type": "code",
    "id": "3gsJhBfAy0sb"
   },
   "outputs": [],
   "source": [
    "get_accuracy(model,predictors)"
   ]
  },
  {
   "cell_type": "code",
   "execution_count": 0,
   "metadata": {
    "colab": {},
    "colab_type": "code",
    "id": "cyFX2Zovy0sb"
   },
   "outputs": [],
   "source": [
    "param_test4 = {\n",
    " 'subsample':[i/10.0 for i in range(6,10)],\n",
    " 'colsample_bytree':[i/10.0 for i in range(6,10)]\n",
    "}\n",
    "gsearch4=GridSearchCV(estimator=XgbClass(n_estimators=48,max_depth=7,\n",
    "                                         min_child_weight=5,gamma=0),\n",
    "                      param_grid =param_test4,scoring='roc_auc',n_jobs=-1,iid=False, cv=5)\n",
    "gsearch4.fit(train[predictors],train[target])\n",
    "gsearch4.grid_scores_, gsearch4.best_params_, gsearch4.best_score_"
   ]
  },
  {
   "cell_type": "code",
   "execution_count": 0,
   "metadata": {
    "colab": {},
    "colab_type": "code",
    "id": "WMPJK63Fy0sf"
   },
   "outputs": [],
   "source": [
    "xgb1 = XgbClass(max_depth=8,min_child_weight=4,gamma=0.4,subsample=0.8,colsample_bytree=0.6)\n",
    "model=modelfit(xgb1, train, predictors)"
   ]
  },
  {
   "cell_type": "code",
   "execution_count": 0,
   "metadata": {
    "colab": {},
    "colab_type": "code",
    "id": "Vj-WHMJ9y0sg"
   },
   "outputs": [],
   "source": [
    "get_accuracy(model,predictors)"
   ]
  },
  {
   "cell_type": "code",
   "execution_count": 0,
   "metadata": {
    "colab": {},
    "colab_type": "code",
    "id": "2hsrfoIXy0sj"
   },
   "outputs": [],
   "source": [
    "#dropl = dropl + ['HLCLAST', 'IIFAMSVC', 'IIKI17_2', 'ANYHLTI2', 'IRFAMPMT', 'IRFSTAMP', 'IRMCDCHP']\n",
    "RunTestAndSaveResults(dropl,'final_result.csv',model)"
   ]
  },
  {
   "cell_type": "code",
   "execution_count": 0,
   "metadata": {
    "colab": {},
    "colab_type": "code",
    "id": "RDfFjAc2KCVs"
   },
   "outputs": [],
   "source": [
    "ls -l"
   ]
  },
  {
   "cell_type": "code",
   "execution_count": 0,
   "metadata": {
    "colab": {},
    "colab_type": "code",
    "id": "TzVGMzWUKDau"
   },
   "outputs": [],
   "source": []
  }
 ],
 "metadata": {
  "colab": {
   "collapsed_sections": [],
   "name": "Detect The Criminals.ipynb",
   "provenance": [],
   "version": "0.3.2"
  },
  "kernelspec": {
   "display_name": "Python 3",
   "language": "python",
   "name": "python3"
  },
  "language_info": {
   "codemirror_mode": {
    "name": "ipython",
    "version": 3
   },
   "file_extension": ".py",
   "mimetype": "text/x-python",
   "name": "python",
   "nbconvert_exporter": "python",
   "pygments_lexer": "ipython3",
   "version": "3.6.5"
  }
 },
 "nbformat": 4,
 "nbformat_minor": 1
}
