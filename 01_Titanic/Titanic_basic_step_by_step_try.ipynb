{
 "cells": [
  {
   "cell_type": "markdown",
   "metadata": {},
   "source": [
    "Steps towards solving the Titanic Predicitons"
   ]
  },
  {
   "cell_type": "markdown",
   "metadata": {},
   "source": [
    "Step 1: Frame the Problem"
   ]
  },
  {
   "cell_type": "markdown",
   "metadata": {},
   "source": [
    "Step 2: Obtain the data"
   ]
  },
  {
   "cell_type": "code",
   "execution_count": 8,
   "metadata": {},
   "outputs": [
    {
     "name": "stdout",
     "output_type": "stream",
     "text": [
      "Requirement already satisfied: missingno in /Users/marleneprado/anaconda3/lib/python3.6/site-packages (0.4.1)\n",
      "Requirement already satisfied: scipy in /Users/marleneprado/anaconda3/lib/python3.6/site-packages (from missingno) (1.1.0)\n",
      "Requirement already satisfied: seaborn in /Users/marleneprado/anaconda3/lib/python3.6/site-packages (from missingno) (0.8.1)\n",
      "Requirement already satisfied: matplotlib in /Users/marleneprado/anaconda3/lib/python3.6/site-packages (from missingno) (2.2.2)\n",
      "Requirement already satisfied: numpy in /Users/marleneprado/anaconda3/lib/python3.6/site-packages (from missingno) (1.14.3)\n",
      "Requirement already satisfied: pandas in /Users/marleneprado/anaconda3/lib/python3.6/site-packages (from seaborn->missingno) (0.23.0)\n",
      "Requirement already satisfied: cycler>=0.10 in /Users/marleneprado/anaconda3/lib/python3.6/site-packages (from matplotlib->missingno) (0.10.0)\n",
      "Requirement already satisfied: pyparsing!=2.0.4,!=2.1.2,!=2.1.6,>=2.0.1 in /Users/marleneprado/anaconda3/lib/python3.6/site-packages (from matplotlib->missingno) (2.2.0)\n",
      "Requirement already satisfied: python-dateutil>=2.1 in /Users/marleneprado/anaconda3/lib/python3.6/site-packages (from matplotlib->missingno) (2.7.3)\n",
      "Requirement already satisfied: pytz in /Users/marleneprado/anaconda3/lib/python3.6/site-packages (from matplotlib->missingno) (2018.4)\n",
      "Requirement already satisfied: six>=1.10 in /Users/marleneprado/anaconda3/lib/python3.6/site-packages (from matplotlib->missingno) (1.11.0)\n",
      "Requirement already satisfied: kiwisolver>=1.0.1 in /Users/marleneprado/anaconda3/lib/python3.6/site-packages (from matplotlib->missingno) (1.0.1)\n",
      "Requirement already satisfied: setuptools in /Users/marleneprado/anaconda3/lib/python3.6/site-packages (from kiwisolver>=1.0.1->matplotlib->missingno) (39.1.0)\n"
     ]
    }
   ],
   "source": [
    "!pip install missingno"
   ]
  },
  {
   "cell_type": "code",
   "execution_count": 9,
   "metadata": {},
   "outputs": [],
   "source": [
    "import pandas as pd\n",
    "import numpy as np\n",
    "import matplotlib.pyplot as plt\n",
    "import missingno as ms\n",
    "import seaborn as sns\n",
    "%matplotlib inline"
   ]
  },
  {
   "cell_type": "code",
   "execution_count": null,
   "metadata": {},
   "outputs": [],
   "source": []
  }
 ],
 "metadata": {
  "kernelspec": {
   "display_name": "Python 3",
   "language": "python",
   "name": "python3"
  },
  "language_info": {
   "codemirror_mode": {
    "name": "ipython",
    "version": 3
   },
   "file_extension": ".py",
   "mimetype": "text/x-python",
   "name": "python",
   "nbconvert_exporter": "python",
   "pygments_lexer": "ipython3",
   "version": "3.6.5"
  }
 },
 "nbformat": 4,
 "nbformat_minor": 2
}
